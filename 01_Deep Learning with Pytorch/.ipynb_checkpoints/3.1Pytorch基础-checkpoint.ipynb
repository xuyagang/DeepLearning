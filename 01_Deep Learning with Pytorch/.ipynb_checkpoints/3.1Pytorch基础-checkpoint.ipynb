{
 "cells": [
  {
   "cell_type": "markdown",
   "metadata": {},
   "source": [
    "### Tensor 张量"
   ]
  },
  {
   "cell_type": "code",
   "execution_count": 25,
   "metadata": {},
   "outputs": [],
   "source": [
    "import pandas as pd\n",
    "import torch\n",
    "import numpy as np"
   ]
  },
  {
   "cell_type": "code",
   "execution_count": 26,
   "metadata": {},
   "outputs": [
    {
     "name": "stdout",
     "output_type": "stream",
     "text": [
      "a is:\n",
      "tensor([[2., 3.],\n",
      "        [4., 8.],\n",
      "        [7., 9.]])\n"
     ]
    }
   ],
   "source": [
    "#  torch.Tensor 默认的是 torch.FloatTensor 数据类型\n",
    "a = torch.Tensor([[2,3],[4,8],[7,9]])\n",
    "print(f'a is:\\n{a}')"
   ]
  },
  {
   "cell_type": "code",
   "execution_count": 27,
   "metadata": {},
   "outputs": [
    {
     "name": "stdout",
     "output_type": "stream",
     "text": [
      "torch.Size([3, 2])\n"
     ]
    }
   ],
   "source": [
    "print(a.size())"
   ]
  },
  {
   "cell_type": "code",
   "execution_count": 28,
   "metadata": {},
   "outputs": [
    {
     "name": "stdout",
     "output_type": "stream",
     "text": [
      "tensor([[2, 3],\n",
      "        [4, 8],\n",
      "        [7, 9]])\n"
     ]
    }
   ],
   "source": [
    "# 自定义数据类型(64位整数)\n",
    "b = torch.LongTensor([[2,3],[4,8],[7,9]])\n",
    "print(b)"
   ]
  },
  {
   "cell_type": "code",
   "execution_count": 29,
   "metadata": {},
   "outputs": [
    {
     "name": "stdout",
     "output_type": "stream",
     "text": [
      "tensor([[0., 0.],\n",
      "        [0., 0.],\n",
      "        [0., 0.]])\n"
     ]
    }
   ],
   "source": [
    "# 全是0的Tensor\n",
    "c = torch.zeros((3,2))\n",
    "print(c)"
   ]
  },
  {
   "cell_type": "code",
   "execution_count": 30,
   "metadata": {},
   "outputs": [
    {
     "name": "stdout",
     "output_type": "stream",
     "text": [
      "tensor([[-1.3333, -0.0922],\n",
      "        [ 0.8387,  0.6334],\n",
      "        [-0.1649,  0.3342]])\n"
     ]
    }
   ],
   "source": [
    "# 正态分布作为随机值\n",
    "d = torch.randn((3,2))\n",
    "print(d)"
   ]
  },
  {
   "cell_type": "code",
   "execution_count": 31,
   "metadata": {},
   "outputs": [
    {
     "name": "stdout",
     "output_type": "stream",
     "text": [
      "tensor([[2., 3.],\n",
      "        [4., 8.],\n",
      "        [7., 9.]])\n"
     ]
    }
   ],
   "source": [
    "# 可以像 numpy 一样通过索引的方式取得其中的元素，同时也可以改变它的值\n",
    "print(a)"
   ]
  },
  {
   "cell_type": "code",
   "execution_count": 32,
   "metadata": {},
   "outputs": [
    {
     "name": "stdout",
     "output_type": "stream",
     "text": [
      "tensor([[  2., 100.],\n",
      "        [  4.,   8.],\n",
      "        [  7.,   9.]])\n"
     ]
    }
   ],
   "source": [
    "a[0,1] = 100\n",
    "print(a)"
   ]
  },
  {
   "cell_type": "code",
   "execution_count": 33,
   "metadata": {},
   "outputs": [
    {
     "name": "stdout",
     "output_type": "stream",
     "text": [
      "tensor([[2, 3],\n",
      "        [4, 8],\n",
      "        [7, 9]])\n",
      "[[2 3]\n",
      " [4 8]\n",
      " [7 9]]\n"
     ]
    }
   ],
   "source": [
    "# Tensor numpy 相互转换\n",
    "numpy_b = b.numpy()\n",
    "print(b)\n",
    "print(numpy_b)"
   ]
  },
  {
   "cell_type": "code",
   "execution_count": 34,
   "metadata": {},
   "outputs": [
    {
     "name": "stdout",
     "output_type": "stream",
     "text": [
      "tensor([[2, 3],\n",
      "        [4, 5]], dtype=torch.int32)\n"
     ]
    }
   ],
   "source": [
    "e = np.array([[2,3],[4,5]])\n",
    "torch_e = torch.from_numpy(e)\n",
    "print(torch_e)"
   ]
  },
  {
   "cell_type": "code",
   "execution_count": 35,
   "metadata": {},
   "outputs": [
    {
     "name": "stdout",
     "output_type": "stream",
     "text": [
      "tensor([[2., 3.],\n",
      "        [4., 5.]])\n"
     ]
    }
   ],
   "source": [
    "# 将e转换为float tensor\n",
    "print(torch_e.float())"
   ]
  },
  {
   "cell_type": "code",
   "execution_count": 36,
   "metadata": {},
   "outputs": [
    {
     "name": "stdout",
     "output_type": "stream",
     "text": [
      "True\n"
     ]
    }
   ],
   "source": [
    "# 判断是否支持GPU\n",
    "print(torch.cuda.is_available())"
   ]
  },
  {
   "cell_type": "code",
   "execution_count": 37,
   "metadata": {},
   "outputs": [
    {
     "data": {
      "text/plain": [
       "tensor([[  2., 100.],\n",
       "        [  4.,   8.],\n",
       "        [  7.,   9.]], device='cuda:0')"
      ]
     },
     "execution_count": 37,
     "metadata": {},
     "output_type": "execute_result"
    }
   ],
   "source": [
    "# 将tensor a 放到gpu 上只需：\n",
    "a.cuda()"
   ]
  },
  {
   "cell_type": "markdown",
   "metadata": {},
   "source": [
    "### Variable\n",
    "- 构建variable. 要注意得传入一个参数 requires_grad=True ,表示是否对这个变量求梯度，默认的是 False "
   ]
  },
  {
   "cell_type": "markdown",
   "metadata": {},
   "source": [
    "- 在 numpy 里面没有,神经网络计算中特有的一个概念\n",
    "- 就是variable提供了自动求导的功能\n",
    "- 神经网络在做运算的时候需要先构造一个计算图谱， 然后在里面进行前向传播和反向传播\n",
    "- Variable 和 Tensor 本质上没有区别，不过 Variable 会被放入一个汁算图中，然后进 行前向传播，反向传播，自动求导\n",
    "- Variable 是在 torch.autograd.Variable 中\n",
    "- 想让一个 tensor a 变成 Variable，只需要 Variable(a) 就可以\n",
    "\n",
    "- variable属性\n",
    "    - data: 可以取出 Variable 里面的 tensor 数值\n",
    "    - grad: 是这个 Variabel 的反向传播梯度\n",
    "    - grad_fn: 得到这个 Variable 的操作,比如通过加减还是乘除来得到的\n",
    "\n",
    "\n"
   ]
  },
  {
   "cell_type": "code",
   "execution_count": 38,
   "metadata": {},
   "outputs": [],
   "source": [
    "import torch.autograd.variable as va"
   ]
  },
  {
   "cell_type": "code",
   "execution_count": 47,
   "metadata": {},
   "outputs": [
    {
     "name": "stderr",
     "output_type": "stream",
     "text": [
      "C:\\Users\\Dell\\Anaconda3\\lib\\site-packages\\torch\\autograd\\__init__.py:167: UserWarning: torch.autograd.variable(...) is deprecated, use torch.tensor(...) instead\n",
      "  warnings.warn(\"torch.autograd.variable(...) is deprecated, use torch.tensor(...) instead\")\n",
      "C:\\Users\\Dell\\Anaconda3\\lib\\site-packages\\torch\\autograd\\__init__.py:168: UserWarning: To copy construct from a tensor, it is recommended to use sourceTensor.clone().detach() or sourceTensor.clone().detach().requires_grad_(True), rather than torch.tensor(sourceTensor).\n",
      "  return torch.tensor(*args, **kwargs)\n"
     ]
    }
   ],
   "source": [
    "# 创建Variable\n",
    "x = va(torch.Tensor([1]),requires_grad = True)\n",
    "w = va(torch.Tensor([2]),requires_grad = True)\n",
    "b = va(torch.Tensor([3]),requires_grad = True)"
   ]
  },
  {
   "cell_type": "code",
   "execution_count": 49,
   "metadata": {},
   "outputs": [],
   "source": [
    "# build a computational graph\n",
    "y = w * x + b"
   ]
  },
  {
   "cell_type": "code",
   "execution_count": 50,
   "metadata": {},
   "outputs": [],
   "source": [
    "# compute gradients\n",
    "# 自动求导\n",
    "y.backward()"
   ]
  },
  {
   "cell_type": "code",
   "execution_count": 42,
   "metadata": {},
   "outputs": [
    {
     "name": "stdout",
     "output_type": "stream",
     "text": [
      "tensor([2.])\n",
      "tensor([1.])\n",
      "tensor([1.])\n"
     ]
    }
   ],
   "source": [
    "# print out the gradients\n",
    "# 通过 x.grad 可以得到 x 的梯度\n",
    "print(x.grad)\n",
    "print(w.grad)\n",
    "print(b.grad)"
   ]
  },
  {
   "cell_type": "code",
   "execution_count": 43,
   "metadata": {},
   "outputs": [
    {
     "name": "stdout",
     "output_type": "stream",
     "text": [
      "tensor([-1.2049,  0.5051, -0.7025])\n",
      "tensor([1.4519, 0.2551, 0.4936], grad_fn=<PowBackward0>)\n"
     ]
    },
    {
     "name": "stderr",
     "output_type": "stream",
     "text": [
      "C:\\Users\\Dell\\Anaconda3\\lib\\site-packages\\torch\\autograd\\__init__.py:167: UserWarning: torch.autograd.variable(...) is deprecated, use torch.tensor(...) instead\n",
      "  warnings.warn(\"torch.autograd.variable(...) is deprecated, use torch.tensor(...) instead\")\n",
      "C:\\Users\\Dell\\Anaconda3\\lib\\site-packages\\torch\\autograd\\__init__.py:168: UserWarning: To copy construct from a tensor, it is recommended to use sourceTensor.clone().detach() or sourceTensor.clone().detach().requires_grad_(True), rather than torch.tensor(sourceTensor).\n",
      "  return torch.tensor(*args, **kwargs)\n"
     ]
    }
   ],
   "source": [
    "# 矩阵求导\n",
    "x = torch.randn(3)\n",
    "print(x)\n",
    "x = va(x,requires_grad=True)\n",
    "y = x ** 2\n",
    "print(y)"
   ]
  },
  {
   "cell_type": "code",
   "execution_count": 44,
   "metadata": {},
   "outputs": [
    {
     "name": "stdout",
     "output_type": "stream",
     "text": [
      "tensor([-2.4099,  1.0102, -1.4051])\n"
     ]
    }
   ],
   "source": [
    "#  y.backward(torch.FloatTensor [1，1， 1 ]) 这样得到的 结果就是它们每个分量的梯度\n",
    "#  y.backward(torch.FloatTensor( [1， 0.1 ， 0. 01] )) ，这样得到的梯度就是它们原本的梯度分别乘上 1 ， 0.1 和 0.01\n",
    "y.backward(torch.FloatTensor([1,1,1]))\n",
    "print(x.grad)"
   ]
  },
  {
   "cell_type": "markdown",
   "metadata": {},
   "source": [
    "### 数据集（Dataset）\n",
    "在处理任何机器学习问题之前都需要数据读取，并进行预处理，Pytorch 提供了很多工具使得读取和处理很容易\n",
    "\n",
    "- torch.utils.data.Dataset 是代表这一数据的抽象类\n",
    "- 可以自定义你的数 据类继承和重写这个抽象类，非常简单，只需要定义 len一和_getitem一这两个 函数"
   ]
  },
  {
   "cell_type": "code",
   "execution_count": 45,
   "metadata": {},
   "outputs": [
    {
     "ename": "NameError",
     "evalue": "name 'Dataset' is not defined",
     "output_type": "error",
     "traceback": [
      "\u001b[1;31m---------------------------------------------------------------------------\u001b[0m",
      "\u001b[1;31mNameError\u001b[0m                                 Traceback (most recent call last)",
      "\u001b[1;32m<ipython-input-45-384133a04e8d>\u001b[0m in \u001b[0;36m<module>\u001b[1;34m()\u001b[0m\n\u001b[0;32m      1\u001b[0m \u001b[1;31m# import torch.utils.data.dataset as Da\u001b[0m\u001b[1;33m\u001b[0m\u001b[1;33m\u001b[0m\u001b[0m\n\u001b[1;32m----> 2\u001b[1;33m \u001b[1;32mclass\u001b[0m \u001b[0mmyDataset\u001b[0m\u001b[1;33m(\u001b[0m\u001b[0mDataset\u001b[0m\u001b[1;33m)\u001b[0m\u001b[1;33m:\u001b[0m\u001b[1;33m\u001b[0m\u001b[0m\n\u001b[0m\u001b[0;32m      3\u001b[0m     \u001b[1;32mdef\u001b[0m \u001b[0m__init__\u001b[0m\u001b[1;33m(\u001b[0m\u001b[0mself\u001b[0m\u001b[1;33m,\u001b[0m\u001b[0mcsv_file\u001b[0m\u001b[1;33m,\u001b[0m\u001b[0mtxt_file\u001b[0m\u001b[1;33m,\u001b[0m\u001b[0mroot_dir\u001b[0m\u001b[1;33m,\u001b[0m\u001b[0mother_file\u001b[0m\u001b[1;33m)\u001b[0m\u001b[1;33m:\u001b[0m\u001b[1;33m\u001b[0m\u001b[0m\n\u001b[0;32m      4\u001b[0m         \u001b[0mself\u001b[0m\u001b[1;33m.\u001b[0m\u001b[0mcsv_data\u001b[0m \u001b[1;33m=\u001b[0m \u001b[0mpd\u001b[0m\u001b[1;33m.\u001b[0m\u001b[0mread_csv\u001b[0m\u001b[1;33m(\u001b[0m\u001b[0mcsv_file\u001b[0m\u001b[1;33m)\u001b[0m\u001b[1;33m\u001b[0m\u001b[0m\n\u001b[0;32m      5\u001b[0m         \u001b[1;32mwith\u001b[0m \u001b[0mopen\u001b[0m\u001b[1;33m(\u001b[0m\u001b[0mtxt_file\u001b[0m\u001b[1;33m,\u001b[0m\u001b[1;34m'r'\u001b[0m\u001b[1;33m)\u001b[0m \u001b[1;32mas\u001b[0m \u001b[0mf\u001b[0m\u001b[1;33m:\u001b[0m\u001b[1;33m\u001b[0m\u001b[0m\n",
      "\u001b[1;31mNameError\u001b[0m: name 'Dataset' is not defined"
     ]
    }
   ],
   "source": [
    "# import torch.utils.data.dataset as Da\n",
    "class myDataset(Dataset):\n",
    "    def __init__(self,csv_file,txt_file,root_dir,other_file):\n",
    "        self.csv_data = pd.read_csv(csv_file)\n",
    "        with open(txt_file,'r') as f:\n",
    "            data_list = f.readlines()\n",
    "        self.txt_data = data_list\n",
    "        self.root_dir = root_dir\n",
    "        \n",
    "    def __len__(self):\n",
    "        return len(self.csv_data)\n",
    "    \n",
    "    def __getitem__(self,idx):\n",
    "        data = (self.csv_data[idx],self.txt_data[idx])\n",
    "        return data\n",
    "# 通过上面的方式可以通过迭代的方式来获取数据"
   ]
  },
  {
   "cell_type": "code",
   "execution_count": null,
   "metadata": {},
   "outputs": [],
   "source": [
    "# torchvision 包中有关于计算机视觉的数据读取类 ImageFolder，主要功能是处理图片，并且要求图片存放形式"
   ]
  },
  {
   "cell_type": "markdown",
   "metadata": {},
   "source": [
    "nn.Module(模组）"
   ]
  },
  {
   "cell_type": "code",
   "execution_count": null,
   "metadata": {},
   "outputs": [],
   "source": [
    "class net_name(nn.Module):\n",
    "    def __init__(self,other_arguments):\n",
    "        super(net_name,self).__init__()\n",
    "        self.conv1 = nn.Conv2d(in_channels,out_channels,kernel_size)\n",
    "        # other network layer\n",
    "    def forward(self,x):\n",
    "        x = self.conv1(x)\n",
    "        return x"
   ]
  },
  {
   "cell_type": "code",
   "execution_count": null,
   "metadata": {},
   "outputs": [],
   "source": []
  },
  {
   "cell_type": "code",
   "execution_count": null,
   "metadata": {},
   "outputs": [],
   "source": []
  },
  {
   "cell_type": "code",
   "execution_count": null,
   "metadata": {},
   "outputs": [],
   "source": []
  },
  {
   "cell_type": "code",
   "execution_count": null,
   "metadata": {},
   "outputs": [],
   "source": []
  },
  {
   "cell_type": "code",
   "execution_count": null,
   "metadata": {},
   "outputs": [],
   "source": []
  },
  {
   "cell_type": "code",
   "execution_count": null,
   "metadata": {},
   "outputs": [],
   "source": []
  },
  {
   "cell_type": "code",
   "execution_count": null,
   "metadata": {},
   "outputs": [],
   "source": []
  },
  {
   "cell_type": "code",
   "execution_count": null,
   "metadata": {},
   "outputs": [],
   "source": []
  },
  {
   "cell_type": "code",
   "execution_count": null,
   "metadata": {},
   "outputs": [],
   "source": []
  },
  {
   "cell_type": "code",
   "execution_count": null,
   "metadata": {},
   "outputs": [],
   "source": []
  },
  {
   "cell_type": "code",
   "execution_count": null,
   "metadata": {},
   "outputs": [],
   "source": []
  },
  {
   "cell_type": "code",
   "execution_count": null,
   "metadata": {},
   "outputs": [],
   "source": []
  },
  {
   "cell_type": "code",
   "execution_count": null,
   "metadata": {},
   "outputs": [],
   "source": []
  },
  {
   "cell_type": "code",
   "execution_count": null,
   "metadata": {},
   "outputs": [],
   "source": []
  },
  {
   "cell_type": "code",
   "execution_count": null,
   "metadata": {},
   "outputs": [],
   "source": []
  },
  {
   "cell_type": "code",
   "execution_count": null,
   "metadata": {},
   "outputs": [],
   "source": []
  },
  {
   "cell_type": "code",
   "execution_count": null,
   "metadata": {},
   "outputs": [],
   "source": []
  }
 ],
 "metadata": {
  "kernelspec": {
   "display_name": "Python 3",
   "language": "python",
   "name": "python3"
  },
  "language_info": {
   "codemirror_mode": {
    "name": "ipython",
    "version": 3
   },
   "file_extension": ".py",
   "mimetype": "text/x-python",
   "name": "python",
   "nbconvert_exporter": "python",
   "pygments_lexer": "ipython3",
   "version": "3.7.0"
  }
 },
 "nbformat": 4,
 "nbformat_minor": 2
}
