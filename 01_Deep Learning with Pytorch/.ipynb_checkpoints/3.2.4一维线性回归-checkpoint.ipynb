{
 "cells": [
  {
   "cell_type": "code",
   "execution_count": 159,
   "metadata": {},
   "outputs": [],
   "source": [
    "import numpy as np\n",
    "import random"
   ]
  },
  {
   "cell_type": "code",
   "execution_count": 160,
   "metadata": {},
   "outputs": [],
   "source": [
    "x = sorted([random.randint(-1000, 1000) * 0.01 for i in range(10)])\n",
    "y = sorted([random.randint(-1000, 1000) * 0.01 for i in range(10)])\n",
    "x_train = [[i] for i in x]\n",
    "y_train = [[i] for i in y]\n",
    "x_train = np.array(x_train)\n",
    "y_train = np.array(y_train)"
   ]
  },
  {
   "cell_type": "code",
   "execution_count": 161,
   "metadata": {
    "scrolled": false
   },
   "outputs": [
    {
     "data": {
      "text/plain": [
       "<matplotlib.collections.PathCollection at 0x261c3411cf8>"
      ]
     },
     "execution_count": 161,
     "metadata": {},
     "output_type": "execute_result"
    },
    {
     "data": {
      "image/png": "[encoded data removed]",
      "text/plain": [
       "<Figure size 432x288 with 1 Axes>"
      ]
     },
     "metadata": {
      "needs_background": "light"
     },
     "output_type": "display_data"
    }
   ],
   "source": [
    "# 画图\n",
    "import matplotlib.pyplot as plt\n",
    "plt.scatter(x_train,y_train)"
   ]
  },
  {
   "cell_type": "code",
   "execution_count": 162,
   "metadata": {
    "scrolled": false
   },
   "outputs": [],
   "source": [
    "# 将numpy向量转为tensor\n",
    "import torch\n",
    "from torch.nn import Linear\n",
    "from torch import nn\n",
    "\n",
    "# dtype=torch.float64\n",
    "x_train = torch.from_numpy(x_train)\n",
    "y_train = torch.from_numpy(y_train)\n",
    "# equivalent to ``self.to(torch.float32)\n",
    "x_train = x_train.float()\n",
    "y_train = y_train.float()"
   ]
  },
  {
   "cell_type": "code",
   "execution_count": 163,
   "metadata": {},
   "outputs": [],
   "source": [
    "class LinearRegress(nn.Module):\n",
    "    def __init__(self):\n",
    "        super(LinearRegress,self).__init__()\n",
    "        # 输入和输出是1dimension\n",
    "        self.linear = nn.Linear(1, 1)\n",
    "    \n",
    "    def forward(self, x):\n",
    "        out = self.linear(x)\n",
    "        return out\n",
    "\n",
    "# 如果支持gpu加速，可以通过model.cuda()将模型放到gpu\n",
    "if torch.cuda.is_available():\n",
    "    model = LinearRegress().cuda()\n",
    "else:\n",
    "    model = LinearRegress()"
   ]
  },
  {
   "cell_type": "code",
   "execution_count": 164,
   "metadata": {},
   "outputs": [],
   "source": [
    "# 定义损失和优化函数，这里使用均方误差作为优化函数，使用梯度下降进行优化\n",
    "criterion = nn.MSELoss()\n",
    "optimizer = torch.optim.SGD(model.parameters(), lr = 1e-3)"
   ]
  },
  {
   "cell_type": "code",
   "execution_count": 165,
   "metadata": {},
   "outputs": [
    {
     "name": "stdout",
     "output_type": "stream",
     "text": [
      "Epoch[20/1000], loss : 4.958232\n",
      "Epoch[40/1000], loss : 4.012141\n",
      "Epoch[60/1000], loss : 3.854052\n",
      "Epoch[80/1000], loss : 3.733279\n",
      "Epoch[100/1000], loss : 3.622404\n",
      "Epoch[120/1000], loss : 3.519813\n",
      "Epoch[140/1000], loss : 3.424858\n",
      "Epoch[160/1000], loss : 3.336970\n",
      "Epoch[180/1000], loss : 3.255623\n",
      "Epoch[200/1000], loss : 3.180330\n",
      "Epoch[220/1000], loss : 3.110641\n",
      "Epoch[240/1000], loss : 3.046138\n",
      "Epoch[260/1000], loss : 2.986436\n",
      "Epoch[280/1000], loss : 2.931177\n",
      "Epoch[300/1000], loss : 2.880030\n",
      "Epoch[320/1000], loss : 2.832691\n",
      "Epoch[340/1000], loss : 2.788874\n",
      "Epoch[360/1000], loss : 2.748318\n",
      "Epoch[380/1000], loss : 2.710780\n",
      "Epoch[400/1000], loss : 2.676037\n",
      "Epoch[420/1000], loss : 2.643879\n",
      "Epoch[440/1000], loss : 2.614115\n",
      "Epoch[460/1000], loss : 2.586565\n",
      "Epoch[480/1000], loss : 2.561066\n",
      "Epoch[500/1000], loss : 2.537464\n",
      "Epoch[520/1000], loss : 2.515619\n",
      "Epoch[540/1000], loss : 2.495400\n",
      "Epoch[560/1000], loss : 2.476686\n",
      "Epoch[580/1000], loss : 2.459364\n",
      "Epoch[600/1000], loss : 2.443331\n",
      "Epoch[620/1000], loss : 2.428492\n",
      "Epoch[640/1000], loss : 2.414757\n",
      "Epoch[660/1000], loss : 2.402045\n",
      "Epoch[680/1000], loss : 2.390278\n",
      "Epoch[700/1000], loss : 2.379387\n",
      "Epoch[720/1000], loss : 2.369306\n",
      "Epoch[740/1000], loss : 2.359976\n",
      "Epoch[760/1000], loss : 2.351341\n",
      "Epoch[780/1000], loss : 2.343347\n",
      "Epoch[800/1000], loss : 2.335950\n",
      "Epoch[820/1000], loss : 2.329102\n",
      "Epoch[840/1000], loss : 2.322764\n",
      "Epoch[860/1000], loss : 2.316898\n",
      "Epoch[880/1000], loss : 2.311468\n",
      "Epoch[900/1000], loss : 2.306442\n",
      "Epoch[920/1000], loss : 2.301791\n",
      "Epoch[940/1000], loss : 2.297485\n",
      "Epoch[960/1000], loss : 2.293500\n",
      "Epoch[980/1000], loss : 2.289812\n",
      "Epoch[1000/1000], loss : 2.286397\n"
     ]
    }
   ],
   "source": [
    "# 开始训练模型\n",
    "from torch.autograd import Variable\n",
    "\n",
    "# 要训练的轮数\n",
    "num_epochs = 1000\n",
    "for epoch in range(num_epochs):\n",
    "    if torch.cuda.is_available():\n",
    "        # 将数据变成Variable放入计算图中\n",
    "        inputs = Variable(x_train).cuda()\n",
    "        target = Variable(y_train).cuda()\n",
    "    else:\n",
    "        inputs = Variable(x_train)\n",
    "        target = Variable(y_train)\n",
    "        \n",
    "    # 得到网络前向传播得到的结果\n",
    "    out = model(inputs)\n",
    "    # 得到损失函数\n",
    "    loss = criterion(out,target)\n",
    "    \n",
    "    # backward 计算误差项及更新参数\n",
    "    # 归零梯度，不然梯度累加到一起，造成结果不收敛\n",
    "    optimizer.zero_grad()\n",
    "    loss.backward()\n",
    "    optimizer.step()\n",
    "\n",
    "    \n",
    "    \n",
    "    if (epoch + 1) % 20 == 0:\n",
    "        print('Epoch[{}/{}], loss : {:.6f}'\n",
    "              .format(epoch + 1, num_epochs, loss.item()))"
   ]
  },
  {
   "cell_type": "code",
   "execution_count": 166,
   "metadata": {},
   "outputs": [
    {
     "data": {
      "text/plain": [
       "LinearRegress(\n",
       "  (linear): Linear(in_features=1, out_features=1, bias=True)\n",
       ")"
      ]
     },
     "execution_count": 166,
     "metadata": {},
     "output_type": "execute_result"
    }
   ],
   "source": [
    "# 将模型变成测试模式\n",
    "# 因为有一些层操作，比如Dropout和BatchNormalization在训练和测试时是不一样的\n",
    "# 通过这个操作来转换这些不一样的层操作，将数据放入网络做前向传播得到结果\n",
    "model.eval()"
   ]
  },
  {
   "cell_type": "code",
   "execution_count": 167,
   "metadata": {},
   "outputs": [
    {
     "data": {
      "text/plain": [
       "<matplotlib.legend.Legend at 0x261c33d9940>"
      ]
     },
     "execution_count": 167,
     "metadata": {},
     "output_type": "execute_result"
    },
    {
     "data": {
      "image/png": "[encoded data removed]",
      "text/plain": [
       "<Figure size 432x288 with 1 Axes>"
      ]
     },
     "metadata": {
      "needs_background": "light"
     },
     "output_type": "display_data"
    }
   ],
   "source": [
    "# 测试结果与真实结果做比较\n",
    "# Expected object of backend CUDA but got backend CPU for argument #4 'mat1'\n",
    "predict = model(Variable(x_train.cuda()))\n",
    "# Use Tensor.cpu() to copy the tensor to host memory first\n",
    "predict = predict.data.cpu().numpy()\n",
    "plt.plot(x_train.numpy(), y_train.numpy(),'ro', label='origin data')\n",
    "plt.plot(x_train.numpy(), predict, label='Fitting Line')\n",
    "plt.legend()"
   ]
  },
  {
   "cell_type": "code",
   "execution_count": null,
   "metadata": {},
   "outputs": [],
   "source": []
  },
  {
   "cell_type": "code",
   "execution_count": null,
   "metadata": {},
   "outputs": [],
   "source": []
  },
  {
   "cell_type": "code",
   "execution_count": null,
   "metadata": {},
   "outputs": [],
   "source": []
  },
  {
   "cell_type": "code",
   "execution_count": null,
   "metadata": {},
   "outputs": [],
   "source": []
  },
  {
   "cell_type": "code",
   "execution_count": null,
   "metadata": {},
   "outputs": [],
   "source": []
  },
  {
   "cell_type": "code",
   "execution_count": null,
   "metadata": {},
   "outputs": [],
   "source": []
  },
  {
   "cell_type": "code",
   "execution_count": null,
   "metadata": {},
   "outputs": [],
   "source": []
  },
  {
   "cell_type": "code",
   "execution_count": null,
   "metadata": {},
   "outputs": [],
   "source": []
  },
  {
   "cell_type": "code",
   "execution_count": null,
   "metadata": {},
   "outputs": [],
   "source": []
  },
  {
   "cell_type": "code",
   "execution_count": null,
   "metadata": {},
   "outputs": [],
   "source": []
  },
  {
   "cell_type": "code",
   "execution_count": null,
   "metadata": {},
   "outputs": [],
   "source": []
  }
 ],
 "metadata": {
  "kernelspec": {
   "display_name": "Python 3",
   "language": "python",
   "name": "python3"
  },
  "language_info": {
   "codemirror_mode": {
    "name": "ipython",
    "version": 3
   },
   "file_extension": ".py",
   "mimetype": "text/x-python",
   "name": "python",
   "nbconvert_exporter": "python",
   "pygments_lexer": "ipython3",
   "version": "3.7.0"
  }
 },
 "nbformat": 4,
 "nbformat_minor": 2
}
