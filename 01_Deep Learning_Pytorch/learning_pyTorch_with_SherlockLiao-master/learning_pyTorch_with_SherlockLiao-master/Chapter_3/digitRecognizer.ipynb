{
 "cells": [
  {
   "cell_type": "code",
   "execution_count": 1,
   "metadata": {},
   "outputs": [],
   "source": [
    "import torch\n",
    "from torch import nn, optim\n",
    "from torch.autograd import Variable"
   ]
  },
  {
   "cell_type": "code",
   "execution_count": 2,
   "metadata": {},
   "outputs": [],
   "source": [
    "# 最简单的层次网络\n",
    "class simpleNet(nn.Module) :\n",
    "    def __init__(self, in_dim, hidden_dim, out_dim) :\n",
    "        super().__init__()\n",
    "        i, self.layer = 1, nn.Sequential()\n",
    "        for h_dim in hidden_dim :\n",
    "            self.layer.add_module('layer_{}'.format(i), nn.Linear(in_dim, h_dim))\n",
    "            i, in_dim = i + 1, h_dim\n",
    "        self.layer.add_module('layer_{}'.format(i), nn.Linear(in_dim, out_dim))\n",
    "        self.layerNum = i\n",
    "        \n",
    "    def forward(self, x) :\n",
    "        x = self.layer(x)\n",
    "        return x"
   ]
  },
  {
   "cell_type": "code",
   "execution_count": 3,
   "metadata": {},
   "outputs": [],
   "source": [
    "# 添加激活函数，增加网络的非线性\n",
    "\n",
    "class Activation_Net(nn.Module) :\n",
    "    def __init__(self, in_dim, hidden_dim, out_dim) :\n",
    "        super().__init__()\n",
    "        i, self.layer = 1, nn.Sequential()\n",
    "        for h_dim in hidden_dim :\n",
    "            self.layer.add_module('layer_{}'.format(i), nn.Sequential(nn.Linear(in_dim, h_dim), nn.ReLU(True)))\n",
    "            i, in_dim = i + 1, h_dim\n",
    "        self.layer.add_module('layer_{}'.format(i), nn.Sequential(nn.Linear(in_dim, out_dim)))\n",
    "        self.layerNum = i\n",
    "    def forward(self, x) :\n",
    "        x = self.layer(x)\n",
    "        return x"
   ]
  },
  {
   "cell_type": "code",
   "execution_count": 4,
   "metadata": {},
   "outputs": [],
   "source": [
    "# 添加批标准化的网络\n",
    "\n",
    "class Batch_net(nn.Module) :\n",
    "    def __init__(self, in_dim, hidden_dim, out_dim) :\n",
    "        super().__init__()\n",
    "        i, self.layer = 1, nn.Sequential()\n",
    "        for h_dim in hidden_dim :\n",
    "            self.layer.add_module('layer_{}'.format(i), \n",
    "                                  nn.Sequential(nn.Linear(in_dim, h_dim), nn.BatchNorm1d(h_dim), nn.ReLU(True)))\n",
    "            i, in_dim = i + 1, h_dim\n",
    "        self.layer.add_module('layer_{}'.format(i), nn.Sequential(nn.Linear(in_dim, out_dim)))\n",
    "        self.layerNum = i\n",
    "    def forward(self, x) :\n",
    "        x = self.layer(x)\n",
    "        return x"
   ]
  },
  {
   "cell_type": "code",
   "execution_count": 5,
   "metadata": {},
   "outputs": [],
   "source": [
    "# 确定超参数\n",
    "\n",
    "epoch_size = 700\n",
    "learning_rate = 1e-2\n",
    "num_epoches = 60"
   ]
  },
  {
   "cell_type": "markdown",
   "metadata": {},
   "source": [
    "---\n",
    "这里本身自带手写数字的数据集，是从kaggle上下载的。给出[链接](https://www.kaggle.com/c/digit-recognizer/data)\n",
    "\n",
    "保存为名为*/data* 的文件夹，文件结构如下 :\n",
    "```\n",
    "data\n",
    "├── sample_submission.csv\n",
    "├── test.csv\n",
    "└── train.csv\n",
    "\n",
    "0 directories, 3 files\n",
    "```\n",
    "---"
   ]
  },
  {
   "cell_type": "code",
   "execution_count": 6,
   "metadata": {},
   "outputs": [
    {
     "name": "stdout",
     "output_type": "stream",
     "text": [
      "42000 784\n"
     ]
    }
   ],
   "source": [
    "# 获得训练数据 - train.csv\n",
    "\n",
    "import csv\n",
    "with open('./data/train.csv') as f :\n",
    "    lines = csv.reader(f)\n",
    "    label, attr = [], []\n",
    "    for line in lines :\n",
    "        if lines.line_num == 1 :\n",
    "            continue\n",
    "        label.append(int(line[0]))\n",
    "        attr.append([float(j) for j in line[1:]])\n",
    "print(len(label), len(attr[1]))\n",
    "\n",
    "# 将数据分为 60(epoches) * 700(rows) 的数据集\n",
    "epoches = []\n",
    "for i in range(0, len(label), epoch_size) :\n",
    "    torch_attr = torch.FloatTensor(attr[i : i + epoch_size])\n",
    "    torch_label = torch.LongTensor(label[i : i + epoch_size])\n",
    "    epoches.append((torch_attr, torch_label))"
   ]
  },
  {
   "cell_type": "code",
   "execution_count": 7,
   "metadata": {},
   "outputs": [],
   "source": [
    "# 模型实例化，Activation_Net,  \n",
    "if torch.cuda.is_available() :\n",
    "    net = Activation_Net(28 * 28, [300, 100], 10).cuda()\n",
    "else :\n",
    "    net = Activation_Net(28 * 28, [300, 100], 10)\n"
   ]
  },
  {
   "cell_type": "code",
   "execution_count": 8,
   "metadata": {},
   "outputs": [],
   "source": [
    "# 损失函数\n",
    "criterion = nn.CrossEntropyLoss()\n",
    "# 优化函数\n",
    "optimizer = optim.SGD(net.parameters(), lr = learning_rate)"
   ]
  },
  {
   "cell_type": "code",
   "execution_count": 9,
   "metadata": {},
   "outputs": [
    {
     "name": "stdout",
     "output_type": "stream",
     "text": [
      "--- train time 1 ---\n",
      "average loss = 11.5832\n",
      "average correct number = 0.4225\n",
      "--- train time 2 ---\n",
      "average loss = 0.5315\n",
      "average correct number = 0.8423\n",
      "--- train time 3 ---\n",
      "average loss = 0.3385\n",
      "average correct number = 0.8999\n",
      "--- train time 4 ---\n",
      "average loss = 0.2668\n",
      "average correct number = 0.9208\n",
      "--- train time 5 ---\n",
      "average loss = 0.2259\n",
      "average correct number = 0.9326\n",
      "--- train time 6 ---\n",
      "average loss = 0.2012\n",
      "average correct number = 0.9394\n",
      "--- train time 7 ---\n",
      "average loss = 0.1813\n",
      "average correct number = 0.9449\n",
      "--- train time 8 ---\n",
      "average loss = 0.1658\n",
      "average correct number = 0.9500\n",
      "--- train time 9 ---\n",
      "average loss = 0.1531\n",
      "average correct number = 0.9541\n",
      "--- train time 10 ---\n",
      "average loss = 0.1429\n",
      "average correct number = 0.9567\n",
      "--- train time 11 ---\n",
      "average loss = 0.1339\n",
      "average correct number = 0.9595\n",
      "--- train time 12 ---\n",
      "average loss = 0.1257\n",
      "average correct number = 0.9615\n",
      "--- train time 13 ---\n",
      "average loss = 0.1180\n",
      "average correct number = 0.9641\n",
      "--- train time 14 ---\n",
      "average loss = 0.1121\n",
      "average correct number = 0.9661\n",
      "--- train time 15 ---\n",
      "average loss = 0.1066\n",
      "average correct number = 0.9678\n",
      "--- train time 16 ---\n",
      "average loss = 0.1019\n",
      "average correct number = 0.9692\n",
      "--- train time 17 ---\n",
      "average loss = 0.0966\n",
      "average correct number = 0.9708\n",
      "--- train time 18 ---\n",
      "average loss = 0.0925\n",
      "average correct number = 0.9723\n",
      "--- train time 19 ---\n",
      "average loss = 0.0883\n",
      "average correct number = 0.9735\n",
      "--- train time 20 ---\n",
      "average loss = 0.0843\n",
      "average correct number = 0.9747\n",
      "--- train time 40 ---\n",
      "average loss = 0.0390\n",
      "average correct number = 0.9904\n",
      "--- train time 60 ---\n",
      "average loss = 0.0206\n",
      "average correct number = 0.9961\n",
      "--- train time 80 ---\n",
      "average loss = 0.0112\n",
      "average correct number = 0.9985\n",
      "--- train time 100 ---\n",
      "average loss = 0.0065\n",
      "average correct number = 0.9995\n",
      "--- train time 120 ---\n",
      "average loss = 0.0039\n",
      "average correct number = 0.9998\n",
      "--- train time 140 ---\n",
      "average loss = 0.0026\n",
      "average correct number = 0.9999\n",
      "--- train time 160 ---\n",
      "average loss = 0.0019\n",
      "average correct number = 1.0000\n",
      "--- train time 180 ---\n",
      "average loss = 0.0014\n",
      "average correct number = 1.0000\n",
      "--- train time 200 ---\n",
      "average loss = 0.0011\n",
      "average correct number = 1.0000\n",
      "--- train time 220 ---\n",
      "average loss = 0.0009\n",
      "average correct number = 1.0000\n",
      "--- train time 240 ---\n",
      "average loss = 0.0008\n",
      "average correct number = 1.0000\n",
      "--- train time 260 ---\n",
      "average loss = 0.0007\n",
      "average correct number = 1.0000\n",
      "--- train time 280 ---\n",
      "average loss = 0.0006\n",
      "average correct number = 1.0000\n",
      "--- train time 300 ---\n",
      "average loss = 0.0005\n",
      "average correct number = 1.0000\n"
     ]
    }
   ],
   "source": [
    "# 训练过程\n",
    "def train() :\n",
    "    epoch_num, loss_sum, cort_num_sum = 0, 0.0, 0\n",
    "    for epoch in epoches :\n",
    "        epoch_num += 1\n",
    "        if torch.cuda.is_available() :\n",
    "            inputs = Variable(epoch[0]).cuda()\n",
    "            target = Variable(epoch[1]).cuda()\n",
    "        else :\n",
    "            inputs = Variable(epoch[0])\n",
    "            target = Variable(epoch[1])\n",
    "        output = net(inputs)\n",
    "        loss = criterion(output, target)\n",
    "        # reset gradients\n",
    "        optimizer.zero_grad()\n",
    "        # backward pass\n",
    "        loss.backward()\n",
    "        # update parameters\n",
    "        optimizer.step()\n",
    "        \n",
    "        # get training infomation\n",
    "        loss_sum += loss.data[0]\n",
    "        _, pred = torch.max(output.data, 1)\n",
    "        \n",
    "        #print(pred.shape)\n",
    "        #print(epoch[1].shape)\n",
    "        \n",
    "        num_correct = torch.eq(pred, epoch[1]).sum()\n",
    "        cort_num_sum += num_correct\n",
    "        \n",
    "    loss_avg = loss_sum / epoch_num\n",
    "    cort_num_avg = cort_num_sum / epoch_num / epoch_size\n",
    "    return loss_avg, cort_num_avg\n",
    "\n",
    "# 对所有数据跑300遍模型\n",
    "loss, correct = [], []\n",
    "training_time = 300\n",
    "for i in range(1, training_time + 1) :\n",
    "    loss_avg, correct_num_avg = train()\n",
    "    loss.append(loss_avg)\n",
    "    if i< 20 or i % 20 == 0 :\n",
    "        print('--- train time {} ---'.format(i))\n",
    "        print('average loss = {:.4f}'.format(loss_avg))\n",
    "        print('average correct number = {:.4f}'.format(correct_num_avg))\n",
    "    correct.append(correct_num_avg)"
   ]
  },
  {
   "cell_type": "code",
   "execution_count": 10,
   "metadata": {},
   "outputs": [
    {
     "data": {
      "image/png": "[encoded data removed]",
      "text/plain": [
       "<matplotlib.figure.Figure at 0x7f1b94ee1470>"
      ]
     },
     "metadata": {},
     "output_type": "display_data"
    },
    {
     "data": {
      "image/png": "[encoded data removed]",
      "text/plain": [
       "<matplotlib.figure.Figure at 0x7f1b33dccf60>"
      ]
     },
     "metadata": {},
     "output_type": "display_data"
    }
   ],
   "source": [
    "# 画图输出训练过程情况\n",
    "\n",
    "import numpy as np\n",
    "import matplotlib.pyplot as plt\n",
    "% matplotlib inline\n",
    "# 画训练过程中的损失值图像\n",
    "lx = np.array(range(len(loss)))\n",
    "ly = np.array(loss)\n",
    "plt.title('loss of training')\n",
    "plt.plot(lx, ly)\n",
    "plt.show()\n",
    "\n",
    "\n",
    "# 画训练过程中正确率变化\n",
    "cx = np.array(range(len(correct)))\n",
    "cy = np.array(correct)\n",
    "plt.title('correct rate of training')\n",
    "plt.plot(cx, cy)\n",
    "plt.show()"
   ]
  },
  {
   "cell_type": "code",
   "execution_count": 11,
   "metadata": {},
   "outputs": [
    {
     "name": "stdout",
     "output_type": "stream",
     "text": [
      "write done.\n"
     ]
    }
   ],
   "source": [
    "# 引入测试数据\n",
    "\n",
    "with open('./data/test.csv') as f :\n",
    "    lines = csv.reader(f)\n",
    "    test = []\n",
    "    for line in lines :\n",
    "        if lines.line_num == 1 :\n",
    "            continue\n",
    "        test.append([float(i) for i in line])\n",
    "test = torch.FloatTensor(test)\n",
    "net.eval()\n",
    "# volatile = True 表示前向传播不保留缓存\n",
    "predict = net(Variable(test, volatile=True))\n",
    "_, predict = torch.max(predict, 1)\n",
    "predict = predict.data.numpy()\n",
    "\n",
    "with open('./data/predict.csv', 'w') as f :\n",
    "    writer = csv.writer(f)\n",
    "    writer.writerow(['ImageId', 'Label'])\n",
    "    for i in range(predict.shape[0]) :\n",
    "        result = [i + 1, predict[i]]\n",
    "        writer.writerow(result)\n",
    "    print('write done.')"
   ]
  },
  {
   "cell_type": "code",
   "execution_count": null,
   "metadata": {},
   "outputs": [],
   "source": []
  }
 ],
 "metadata": {
  "kernelspec": {
   "display_name": "Python 3",
   "language": "python",
   "name": "python3"
  },
  "language_info": {
   "codemirror_mode": {
    "name": "ipython",
    "version": 3
   },
   "file_extension": ".py",
   "mimetype": "text/x-python",
   "name": "python",
   "nbconvert_exporter": "python",
   "pygments_lexer": "ipython3",
   "version": "3.6.4"
  }
 },
 "nbformat": 4,
 "nbformat_minor": 2
}
