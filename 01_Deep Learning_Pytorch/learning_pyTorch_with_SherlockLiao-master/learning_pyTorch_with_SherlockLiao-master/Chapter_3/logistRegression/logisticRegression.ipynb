{
 "cells": [
  {
   "cell_type": "markdown",
   "metadata": {},
   "source": [
    "# Logistic 回归\n",
    "Logistic回归中，输出(Y = 1)的对数几率是输入 x 的线性函数，思路 : \n",
    "\n",
    "1. 先拟合决策边界（不局限于线性，还可以是多项式）\n",
    "2. 再建立这个边界和分类概率的关系\n",
    "3. 从而得到二分类情况下的概率"
   ]
  },
  {
   "cell_type": "code",
   "execution_count": 1,
   "metadata": {},
   "outputs": [],
   "source": [
    "import numpy as np\n",
    "import matplotlib.pyplot as plt\n",
    "import torch\n",
    "from torch import nn\n",
    "from torch import optim\n",
    "from torch.autograd import Variable"
   ]
  },
  {
   "cell_type": "code",
   "execution_count": 2,
   "metadata": {},
   "outputs": [
    {
     "data": {
      "text/plain": [
       "<matplotlib.legend.Legend at 0x7fe1efaed748>"
      ]
     },
     "execution_count": 2,
     "metadata": {},
     "output_type": "execute_result"
    },
    {
     "data": {
      "image/png": "[encoded data removed]",
      "text/plain": [
       "<matplotlib.figure.Figure at 0x7fe2541c0128>"
      ]
     },
     "metadata": {},
     "output_type": "display_data"
    }
   ],
   "source": [
    "# 获取并查看数据\n",
    "\n",
    "with open('data.txt') as f :\n",
    "    data = f.read().split('\\n')\n",
    "    data = [row.split(',') for row in data][:-1]\n",
    "    label0 = np.array([(float(row[0]), float(row[1])) for row in data if row[2] == '0'])\n",
    "    label1 = np.array([(float(row[0]), float(row[1])) for row in data if row[2] == '1'])\n",
    "x0, y0 = label0[:, 0], label0[:, 1]\n",
    "x1, y1 = label1[:, 0], label1[:, 1]\n",
    "plt.plot(x0, y0, 'ro', label = 'label_0')\n",
    "plt.plot(x1, y1, 'bo', label = 'label_1')\n",
    "plt.legend(loc = 'best')"
   ]
  },
  {
   "cell_type": "code",
   "execution_count": 3,
   "metadata": {},
   "outputs": [],
   "source": [
    "import torch\n",
    "\n",
    "# 获得训练数据\n",
    "x = np.concatenate((label0, label1), axis = 0)\n",
    "x_data = torch.from_numpy(x).float()\n",
    "\n",
    "y = [[0] for i in range(label0.shape[0])]\n",
    "y += [[1] for i in range(label1.shape[0])]\n",
    "y_data = torch.FloatTensor(y)"
   ]
  },
  {
   "cell_type": "code",
   "execution_count": 4,
   "metadata": {},
   "outputs": [],
   "source": [
    "# 定义模型\n",
    "\n",
    "class logisticRegression(nn.Module) :\n",
    "    def __init__(self) :\n",
    "        super().__init__()\n",
    "        self.line = nn.Linear(2, 1)\n",
    "        self.smd = nn.Sigmoid()\n",
    "    def forward(self, x) :\n",
    "        x = self.line(x)\n",
    "        return self.smd(x)\n",
    "\n",
    "logistic = logisticRegression()\n",
    "\n",
    "if torch.cuda.is_available() :\n",
    "    logistic.cuda()"
   ]
  },
  {
   "cell_type": "code",
   "execution_count": 5,
   "metadata": {},
   "outputs": [],
   "source": [
    "# 定义损失函数为二分类交叉熵(Binary Cross Entropy)\n",
    "criterion = nn.BCELoss()\n",
    "# 定义优化函数为随机梯度下降(Sochastic Gradient Descent)\n",
    "optimizer = optim.SGD(logistic.parameters(), lr = 1e-3, momentum = 0.9)"
   ]
  },
  {
   "cell_type": "markdown",
   "metadata": {},
   "source": [
    "解释一下两个部分\n",
    "\n",
    "#### BCELoss()\n",
    "它的定义是 $loss(o, t) = \\frac 1 n \\sum_i(t[i] * log(o[i]) + (1 - t[i]) * log(1 - o[i]))$\n",
    "\n",
    "以上来源于[torch.nn.BCELoss](http://pytorch.org/docs/master/nn.html?highlight=nn%20bceloss#torch.nn.BCELoss)\n",
    "#### SGD函数，它带有一个参数 `momentum = 0.9`，这表示动量。\n",
    "\n",
    "这种优化方法来源于[On the importance of initialization and momentum in deep learning](http://www.cs.toronto.edu/~hinton/absps/momentum.pdf)\n",
    "\n",
    "它的优化方式为 : $$v = \\rho * v + g \\\\ p = p - lr * v$$\n",
    "其中，p, g, v, $\\rho$ 分别表示待更新的参数parameters，求得的梯度gradient，速度velocity，和动量momentum\n",
    "\n",
    "以上来源于[官网](http://pytorch.org/docs/master/optim.html)关于torch.optim.SGD的note"
   ]
  },
  {
   "cell_type": "code",
   "execution_count": 6,
   "metadata": {},
   "outputs": [
    {
     "name": "stdout",
     "output_type": "stream",
     "text": [
      "**********\n",
      "epoch 10000\n",
      "loss is 0.3826\n",
      "correct rate is 0.9100\n",
      "**********\n",
      "epoch 20000\n",
      "loss is 0.3146\n",
      "correct rate is 0.9200\n",
      "**********\n",
      "epoch 30000\n",
      "loss is 0.2826\n",
      "correct rate is 0.9100\n",
      "**********\n",
      "epoch 40000\n",
      "loss is 0.2640\n",
      "correct rate is 0.9100\n",
      "**********\n",
      "epoch 50000\n",
      "loss is 0.2517\n",
      "correct rate is 0.9100\n"
     ]
    }
   ],
   "source": [
    "# 开始训练\n",
    "epoches = 50000\n",
    "for epoch in range(epoches) :\n",
    "    if torch.cuda.is_available() :\n",
    "        x = Variable(x_data).cuda()\n",
    "        y = Variable(y_data).cuda()\n",
    "    else :\n",
    "        x = Variable(x_data)\n",
    "        y = Variable(y_data)\n",
    "    \n",
    "    # forward 前向计算\n",
    "    out = logistic(x)\n",
    "    loss = criterion(out, y)\n",
    "    \n",
    "    # 计算准确率\n",
    "    print_loss = loss.data[0]\n",
    "    mask = out.ge(0.5).float()\n",
    "    # print('size : {} - {}'.format(mask.size(), y.size()))\n",
    "    correct = (mask == y).sum()\n",
    "    acc = correct.data[0] / x.size(0)\n",
    "    \n",
    "    # BP回朔\n",
    "    optimizer.zero_grad()\n",
    "    loss.backward()\n",
    "    optimizer.step()\n",
    "    if (epoch + 1) % 10000 == 0 :\n",
    "        print('*' * 10)\n",
    "        print('epoch {}'.format(epoch + 1))\n",
    "        print('loss is {:.4f}'.format(print_loss))\n",
    "        print('correct rate is {:.4f}'.format(acc))"
   ]
  },
  {
   "cell_type": "code",
   "execution_count": 7,
   "metadata": {},
   "outputs": [
    {
     "data": {
      "image/png": "[encoded data removed]",
      "text/plain": [
       "<matplotlib.figure.Figure at 0x7fe259d39320>"
      ]
     },
     "metadata": {},
     "output_type": "display_data"
    }
   ],
   "source": [
    "weight = logistic.line.weight.data[0]\n",
    "w0, w1 = weight[0], weight[1]\n",
    "b = logistic.line.bias.data[0]\n",
    "\n",
    "plt.plot(x0, y0, 'ro', label = 'label_0')\n",
    "plt.plot(x1, y1, 'bo', label = 'label_1')\n",
    "plt.legend(loc = 'best')\n",
    "plot_x = np.arange(30, 100, 0.1)\n",
    "plot_y = (-w0 * plot_x - b) / w1\n",
    "plt.plot(plot_x, plot_y)\n",
    "plt.show()"
   ]
  },
  {
   "cell_type": "code",
   "execution_count": null,
   "metadata": {},
   "outputs": [],
   "source": []
  }
 ],
 "metadata": {
  "kernelspec": {
   "display_name": "Python 3",
   "language": "python",
   "name": "python3"
  },
  "language_info": {
   "codemirror_mode": {
    "name": "ipython",
    "version": 3
   },
   "file_extension": ".py",
   "mimetype": "text/x-python",
   "name": "python",
   "nbconvert_exporter": "python",
   "pygments_lexer": "ipython3",
   "version": "3.6.3"
  }
 },
 "nbformat": 4,
 "nbformat_minor": 2
}
