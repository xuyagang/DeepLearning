{
 "cells": [
  {
   "cell_type": "code",
   "execution_count": 1,
   "metadata": {},
   "outputs": [],
   "source": [
    "import torch\n",
    "from torch.nn import Linear\n",
    "from torch import nn"
   ]
  },
  {
   "cell_type": "code",
   "execution_count": 2,
   "metadata": {},
   "outputs": [
    {
     "name": "stdout",
     "output_type": "stream",
     "text": [
      "[[-7.96]\n",
      " [-6.11]\n",
      " [-2.12]\n",
      " [-2.04]\n",
      " [-1.15]\n",
      " [-0.93]\n",
      " [ 1.29]\n",
      " [ 4.66]\n",
      " [ 5.55]\n",
      " [ 7.06]] \n",
      " [[-7.96]\n",
      " [-5.3 ]\n",
      " [ 1.58]\n",
      " [ 2.97]\n",
      " [ 3.55]\n",
      " [ 5.12]\n",
      " [ 5.54]\n",
      " [ 6.52]\n",
      " [ 8.49]\n",
      " [ 9.62]]\n"
     ]
    }
   ],
   "source": [
    "# 获得训练数据\n",
    "import numpy as np\n",
    "import random\n",
    "x = sorted([random.randint(-1000, 1000) * 0.01 for i in range(10)])\n",
    "y = sorted([random.randint(-1000, 1000) * 0.01 for i in range(10)])\n",
    "x_train = [[i] for i in x]\n",
    "y_train = [[i] for i in y]\n",
    "x_train = np.array(x_train)\n",
    "y_train = np.array(y_train)\n",
    "\n",
    "print(x_train, '\\n', y_train)"
   ]
  },
  {
   "cell_type": "code",
   "execution_count": 3,
   "metadata": {},
   "outputs": [
    {
     "data": {
      "text/plain": [
       "<Figure size 640x480 with 1 Axes>"
      ]
     },
     "metadata": {},
     "output_type": "display_data"
    }
   ],
   "source": [
    "# 画图\n",
    "import matplotlib.pyplot as plt\n",
    "plt.scatter(x_train, y_train)\n",
    "plt.show()"
   ]
  },
  {
   "cell_type": "code",
   "execution_count": 4,
   "metadata": {},
   "outputs": [
    {
     "name": "stdout",
     "output_type": "stream",
     "text": [
      "tensor([[-7.9600],\n",
      "        [-6.1100],\n",
      "        [-2.1200],\n",
      "        [-2.0400],\n",
      "        [-1.1500],\n",
      "        [-0.9300],\n",
      "        [ 1.2900],\n",
      "        [ 4.6600],\n",
      "        [ 5.5500],\n",
      "        [ 7.0600]]) \n",
      " tensor([[-7.9600],\n",
      "        [-5.3000],\n",
      "        [ 1.5800],\n",
      "        [ 2.9700],\n",
      "        [ 3.5500],\n",
      "        [ 5.1200],\n",
      "        [ 5.5400],\n",
      "        [ 6.5200],\n",
      "        [ 8.4900],\n",
      "        [ 9.6200]])\n"
     ]
    }
   ],
   "source": [
    "# 将numpy变量转化为tensor\n",
    "x_train = torch.from_numpy(x_train)\n",
    "y_train = torch.from_numpy(y_train)\n",
    "x_train = x_train.float()\n",
    "y_train = y_train.float()\n",
    "print(x_train, '\\n', y_train)"
   ]
  },
  {
   "cell_type": "code",
   "execution_count": 5,
   "metadata": {},
   "outputs": [],
   "source": [
    "# 定义模型， 应当包含 __init__（）函数和forward()函数\n",
    "class LinearRegression(nn.Module):\n",
    "    def __init__(self):\n",
    "        super(LinearRegression, self).__init__()\n",
    "        self.linear = Linear(1, 1)\n",
    "    \n",
    "    def forward(self, x) :\n",
    "        out = self.linear(x)\n",
    "        return out\n",
    "if torch.cuda.is_available():\n",
    "    model = LinearRegression().cuda()\n",
    "else :\n",
    "    model = LinearRegression()"
   ]
  },
  {
   "cell_type": "code",
   "execution_count": 6,
   "metadata": {},
   "outputs": [],
   "source": [
    "# 定义损失函数和优化函数\n",
    "criterison = nn.MSELoss()\n",
    "optimizer = torch.optim.SGD(model.parameters(), lr = 1e-3)"
   ]
  },
  {
   "cell_type": "code",
   "execution_count": 9,
   "metadata": {},
   "outputs": [
    {
     "name": "stdout",
     "output_type": "stream",
     "text": [
      "Epoch[20/1000], loss : 9.972759\n",
      "Epoch[40/1000], loss : 9.119440\n",
      "Epoch[60/1000], loss : 8.603325\n",
      "Epoch[80/1000], loss : 8.173468\n",
      "Epoch[100/1000], loss : 7.784637\n",
      "Epoch[120/1000], loss : 7.427059\n",
      "Epoch[140/1000], loss : 7.097196\n",
      "Epoch[160/1000], loss : 6.792721\n",
      "Epoch[180/1000], loss : 6.511652\n",
      "Epoch[200/1000], loss : 6.252183\n",
      "Epoch[220/1000], loss : 6.012653\n",
      "Epoch[240/1000], loss : 5.791531\n",
      "Epoch[260/1000], loss : 5.587403\n",
      "Epoch[280/1000], loss : 5.398961\n",
      "Epoch[300/1000], loss : 5.224998\n",
      "Epoch[320/1000], loss : 5.064407\n",
      "Epoch[340/1000], loss : 4.916156\n",
      "Epoch[360/1000], loss : 4.779297\n",
      "Epoch[380/1000], loss : 4.652955\n",
      "Epoch[400/1000], loss : 4.536325\n",
      "Epoch[420/1000], loss : 4.428654\n",
      "Epoch[440/1000], loss : 4.329259\n",
      "Epoch[460/1000], loss : 4.237502\n",
      "Epoch[480/1000], loss : 4.152796\n",
      "Epoch[500/1000], loss : 4.074599\n",
      "Epoch[520/1000], loss : 4.002412\n",
      "Epoch[540/1000], loss : 3.935772\n",
      "Epoch[560/1000], loss : 3.874253\n",
      "Epoch[580/1000], loss : 3.817461\n",
      "Epoch[600/1000], loss : 3.765035\n",
      "Epoch[620/1000], loss : 3.716637\n",
      "Epoch[640/1000], loss : 3.671959\n",
      "Epoch[660/1000], loss : 3.630714\n",
      "Epoch[680/1000], loss : 3.592638\n",
      "Epoch[700/1000], loss : 3.557488\n",
      "Epoch[720/1000], loss : 3.525039\n",
      "Epoch[740/1000], loss : 3.495084\n",
      "Epoch[760/1000], loss : 3.467432\n",
      "Epoch[780/1000], loss : 3.441904\n",
      "Epoch[800/1000], loss : 3.418337\n",
      "Epoch[820/1000], loss : 3.396582\n",
      "Epoch[840/1000], loss : 3.376499\n",
      "Epoch[860/1000], loss : 3.357959\n",
      "Epoch[880/1000], loss : 3.340843\n",
      "Epoch[900/1000], loss : 3.325044\n",
      "Epoch[920/1000], loss : 3.310458\n",
      "Epoch[940/1000], loss : 3.296992\n",
      "Epoch[960/1000], loss : 3.284562\n",
      "Epoch[980/1000], loss : 3.273087\n",
      "Epoch[1000/1000], loss : 3.262494\n"
     ]
    }
   ],
   "source": [
    "# 开始训练模型\n",
    "from torch.autograd import Variable\n",
    "# 定义要跑的批(epoch)数\n",
    "num_epochs = 1000\n",
    "for epoch in range(num_epochs) :\n",
    "    # 获得每一批数据的输出\n",
    "    if torch.cuda.is_available() :\n",
    "        inputs = Variable(x_train).cuda()\n",
    "        target = Variable(y_train).cuda()\n",
    "    else :\n",
    "        inputs = Variable(x_train)\n",
    "        target = Variable(y_train)\n",
    "    # forward前向计算\n",
    "    out = model(inputs)\n",
    "    loss = criterison(out, target)\n",
    "    # backward 计算误差项及更新参数\n",
    "    optimizer.zero_grad()\n",
    "    loss.backward()\n",
    "    optimizer.step()\n",
    "    \n",
    "    # 一轮训练结束， 输出信息\n",
    "    if(epoch + 1) % 20 == 0 :\n",
    "        print('Epoch[{}/{}], loss : {:.6f}'.format(epoch + 1, num_epochs, loss.item()))"
   ]
  },
  {
   "cell_type": "code",
   "execution_count": 15,
   "metadata": {},
   "outputs": [
    {
     "data": {
      "text/plain": [
       "LinearRegression(\n",
       "  (linear): Linear(in_features=1, out_features=1, bias=True)\n",
       ")"
      ]
     },
     "execution_count": 15,
     "metadata": {},
     "output_type": "execute_result"
    }
   ],
   "source": [
    "# 将模型变成测试模式\n",
    "model.eval()"
   ]
  },
  {
   "cell_type": "code",
   "execution_count": 16,
   "metadata": {},
   "outputs": [
    {
     "data": {
      "text/plain": [
       "[<matplotlib.lines.Line2D at 0x1f701d25550>]"
      ]
     },
     "execution_count": 16,
     "metadata": {},
     "output_type": "execute_result"
    },
    {
     "data": {
      "image/png": "[encoded data removed]",
      "text/plain": [
       "<Figure size 432x288 with 1 Axes>"
      ]
     },
     "metadata": {
      "needs_background": "light"
     },
     "output_type": "display_data"
    }
   ],
   "source": [
    "# 测试结果与真实结果作比较\n",
    "predict = model(Variable(x_train.cuda()))\n",
    "predict = predict.data.cpu().numpy()\n",
    "plt.plot(x_train.numpy(), y_train.numpy(), 'ro', label='Original data')\n",
    "plt.plot(x_train.numpy(), predict, label='Fitting Line')"
   ]
  },
  {
   "cell_type": "code",
   "execution_count": null,
   "metadata": {},
   "outputs": [],
   "source": []
  }
 ],
 "metadata": {
  "kernelspec": {
   "display_name": "Python 3",
   "language": "python",
   "name": "python3"
  },
  "language_info": {
   "codemirror_mode": {
    "name": "ipython",
    "version": 3
   },
   "file_extension": ".py",
   "mimetype": "text/x-python",
   "name": "python",
   "nbconvert_exporter": "python",
   "pygments_lexer": "ipython3",
   "version": "3.7.0"
  }
 },
 "nbformat": 4,
 "nbformat_minor": 2
}
