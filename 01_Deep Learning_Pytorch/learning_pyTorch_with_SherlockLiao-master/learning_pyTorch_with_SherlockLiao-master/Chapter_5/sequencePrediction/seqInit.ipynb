{
 "cells": [
  {
   "cell_type": "markdown",
   "metadata": {},
   "source": [
    "# 序列预测\n",
    "\n",
    "---"
   ]
  },
  {
   "cell_type": "code",
   "execution_count": 1,
   "metadata": {},
   "outputs": [],
   "source": [
    "import torch\n",
    "from torch import nn, optim\n",
    "from torch.autograd import Variable\n",
    "from torch.nn import init"
   ]
  },
  {
   "cell_type": "markdown",
   "metadata": {},
   "source": [
    "## 已知\n",
    "1949年到1960年每一个月的飞机客流量"
   ]
  },
  {
   "cell_type": "code",
   "execution_count": 2,
   "metadata": {},
   "outputs": [
    {
     "data": {
      "image/png": "[encoded data removed]",
      "text/plain": [
       "<matplotlib.figure.Figure at 0x7f184009f4a8>"
      ]
     },
     "metadata": {},
     "output_type": "display_data"
    }
   ],
   "source": [
    "# 获取输入数据，并可视化\n",
    "\n",
    "import pandas as pd\n",
    "import numpy as np\n",
    "import matplotlib.pyplot as plt\n",
    "% matplotlib inline\n",
    "\n",
    "data = pd.read_csv('data.csv', usecols=[1])\n",
    "plt.title('International airline passengers')\n",
    "plt.plot(data)\n",
    "plt.show()"
   ]
  },
  {
   "cell_type": "markdown",
   "metadata": {},
   "source": [
    "---\n",
    "## 目标\n",
    "给定前三个月的客流量预测当前月的飞机客流量。\n",
    "\n",
    "以1949年到1958年的数据作为训练集， 1959和1960年的数据用作测试集。\n",
    "## 方法\n",
    "1. 模型使用某三个月的数据作为输入，获得第四个月的客流量\n",
    "2. 以此类推进行测试\n",
    "\n",
    "## 比较\n",
    "创建三个模型进行结果比较 : `FC`, `RNN`, `LSTM`, `GRU1`, `GRU2`\n",
    "\n",
    "`GRU2`比`GRU1`多一般的状态数\n",
    "\n",
    "分别从预测准确性，训练时间两方面分析。"
   ]
  },
  {
   "cell_type": "markdown",
   "metadata": {},
   "source": [
    "---\n",
    "**以下部分为数据预处理的代码，会在其他几个模型中动态生成\\*.py文件并引用**"
   ]
  },
  {
   "cell_type": "code",
   "execution_count": 3,
   "metadata": {},
   "outputs": [],
   "source": [
    "# 定义numpy转化为Tensor的函数\n",
    "toTs = lambda x : torch.from_numpy(x)\n",
    "\n",
    "# 定义检测cuda的函数\n",
    "cudAvl = lambda x : x.cuda() if torch.cuda.is_available() else x"
   ]
  },
  {
   "cell_type": "code",
   "execution_count": 4,
   "metadata": {},
   "outputs": [
    {
     "name": "stdout",
     "output_type": "stream",
     "text": [
      "dataSet shape :\t (144, 1)\n",
      "train data shape : (120, 1)\n",
      "real data shape : (144, 1)\n"
     ]
    }
   ],
   "source": [
    "# 数据预处理\n",
    "data = data.dropna()\n",
    "dataSet = data.values\n",
    "dataSet = dataSet.astype('float32')\n",
    "print('dataSet shape :\\t', dataSet.shape)\n",
    "\n",
    "# 数据归一化\n",
    "def MinMaxScaler(X) :\n",
    "    mx, mi = np.max(X), np.min(X)\n",
    "    X_std = (X - mi) / (mx - mi)\n",
    "    return X_std\n",
    "\n",
    "dataSet = MinMaxScaler(dataSet)\n",
    "\n",
    "# 将数据分为训练集和测试集\n",
    "train = dataSet[:12*10]\n",
    "real = dataSet\n",
    "print('train data shape :', train.shape)\n",
    "print('real data shape :', real.shape)"
   ]
  },
  {
   "cell_type": "code",
   "execution_count": 5,
   "metadata": {},
   "outputs": [],
   "source": [
    "input_size = 3"
   ]
  }
 ],
 "metadata": {
  "kernelspec": {
   "display_name": "Python 3",
   "language": "python",
   "name": "python3"
  },
  "language_info": {
   "codemirror_mode": {
    "name": "ipython",
    "version": 3
   },
   "file_extension": ".py",
   "mimetype": "text/x-python",
   "name": "python",
   "nbconvert_exporter": "python",
   "pygments_lexer": "ipython3",
   "version": "3.5.2"
  }
 },
 "nbformat": 4,
 "nbformat_minor": 2
}
