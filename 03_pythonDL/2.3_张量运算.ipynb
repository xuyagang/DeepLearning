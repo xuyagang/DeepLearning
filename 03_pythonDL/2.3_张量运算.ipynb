{
 "cells": [
  {
   "cell_type": "markdown",
   "metadata": {},
   "source": [
    "### 逐元素运算\n",
    "- relu 运算和加法都是逐元素（element-wise）的运算，这些运算非常适合大规模并行实现（向量化实现，这一术语来自于1970— 1990 年间向量处理器超级计算机架构）"
   ]
  },
  {
   "cell_type": "code",
   "execution_count": null,
   "metadata": {},
   "outputs": [],
   "source": [
    "# 想对逐元素运算编写简单的Python 实现，那么 可以用 for 循环。\n",
    "# 下列代码是对逐元素 relu 运算的简单实现。\n",
    "def naive_relu(x):\n",
    "    # x是numpy的2d张量\n",
    "    # 如果不是二维数组就报错\n",
    "    assert len(x.shape) == 2\n",
    "    \n",
    "    x = x.copy()     # 避免覆盖输入张量\n",
    "    for i in range(x.shape[0]):\n",
    "        for j in range(x.shape[1]):\n",
    "            x[i,j] = max(x[i,j],0)\n",
    "    return x\n",
    "# relu(x) 是 max(x, 0)\n",
    "\n",
    "\n",
    "# 对加法采用相同的实现方式\n",
    "def naive_add(x,y):\n",
    "    assert len(x.shape) == 2\n",
    "    assert x.shape == y.shape\n",
    "    \n",
    "    x = x.copy()\n",
    "    for i in range(x.shape[0]):\n",
    "        for j in range(x.shape[1]):\n",
    "            x[i,j] += y[i,j]\n",
    "    return x\n",
    "# 根据同样的方法，你可以实现逐元素的乘法、减法等"
   ]
  },
  {
   "cell_type": "code",
   "execution_count": null,
   "metadata": {},
   "outputs": [],
   "source": [
    "# 在实践中处理Numpy 数组时，这些运算都是优化好的Numpy 内置函数，这些函数将大量\n",
    "# 运算交给安装好的基础线性代数子程序（BLAS，basic linear algebra subprograms）实现\n",
    "# BLAS 是低层次的、高度并行的、高效的张量操作程序，通常用Fortran 或 C 语言来实现。 "
   ]
  },
  {
   "cell_type": "code",
   "execution_count": 5,
   "metadata": {},
   "outputs": [
    {
     "data": {
      "text/plain": [
       "26.307621189115558"
      ]
     },
     "execution_count": 5,
     "metadata": {},
     "output_type": "execute_result"
    }
   ],
   "source": [
    "# 张量点积\n",
    "\n",
    "# 只有元素个数相同的向量之间才能做点积,两个向量之间的点积是一个标量\n",
    "import numpy as np\n",
    "x = np.arange(0,10)\n",
    "y = np.random.random((10))\n",
    "z = np.dot(x,y)\n",
    "z"
   ]
  },
  {
   "cell_type": "code",
   "execution_count": 14,
   "metadata": {},
   "outputs": [
    {
     "name": "stdout",
     "output_type": "stream",
     "text": [
      "32\n",
      "()\n"
     ]
    }
   ],
   "source": [
    "a = np.array([1,2,3])\n",
    "b = np.array([4,5,6])\n",
    "print(np.dot(a,b))\n",
    "print(np.dot(b,a))"
   ]
  },
  {
   "cell_type": "code",
   "execution_count": 15,
   "metadata": {},
   "outputs": [
    {
     "data": {
      "text/plain": [
       "(3, 200)"
      ]
     },
     "execution_count": 15,
     "metadata": {},
     "output_type": "execute_result"
    }
   ],
   "source": [
    "x = np.zeros((200,3))\n",
    "np.transpose(x).shape"
   ]
  },
  {
   "cell_type": "code",
   "execution_count": null,
   "metadata": {},
   "outputs": [],
   "source": []
  }
 ],
 "metadata": {
  "kernelspec": {
   "display_name": "Python [conda env:tensorflow]",
   "language": "python",
   "name": "conda-env-tensorflow-py"
  },
  "language_info": {
   "codemirror_mode": {
    "name": "ipython",
    "version": 3
   },
   "file_extension": ".py",
   "mimetype": "text/x-python",
   "name": "python",
   "nbconvert_exporter": "python",
   "pygments_lexer": "ipython3",
   "version": "3.7.3"
  }
 },
 "nbformat": 4,
 "nbformat_minor": 2
}
