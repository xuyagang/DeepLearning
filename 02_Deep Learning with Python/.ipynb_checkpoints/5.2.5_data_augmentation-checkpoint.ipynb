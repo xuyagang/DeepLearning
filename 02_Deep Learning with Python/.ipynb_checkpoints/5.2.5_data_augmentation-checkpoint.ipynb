{
 "cells": [
  {
   "cell_type": "markdown",
   "metadata": {},
   "source": [
    "数据增强是从现 有的训练样本中生成更多的训练数据，其方法是利用多种能够生成可信图像的随机变换来增加 （augment）样本,其目标是，模型在训练时不会两次查看完全相同的图像。这让模型能够观察 到数据的更多内容，从而具有更好的泛化能力"
   ]
  },
  {
   "cell_type": "code",
   "execution_count": 1,
   "metadata": {},
   "outputs": [
    {
     "name": "stderr",
     "output_type": "stream",
     "text": [
      "Using TensorFlow backend.\n"
     ]
    },
    {
     "name": "stdout",
     "output_type": "stream",
     "text": [
      "Using matplotlib backend: TkAgg\n"
     ]
    }
   ],
   "source": [
    "from keras.preprocessing.image import ImageDataGenerator\n",
    "from keras import models\n",
    "from keras import layers\n",
    "%matplotlib"
   ]
  },
  {
   "cell_type": "code",
   "execution_count": 2,
   "metadata": {},
   "outputs": [],
   "source": [
    "# 利用 ImageDataGenerator 来设置数据增强 \n",
    "datagen = ImageDataGenerator(rotation_range=40, \n",
    "                             width_shift_range=0.2, \n",
    "                             height_shift_range=0.2, \n",
    "                             shear_range=0.2, \n",
    "                             horizontal_flip=True, \n",
    "                             fill_mode='nearest')\n",
    "# rotation_range 是角度值（在 0~180 范围内），表示图像随机旋转的角度范围\n",
    "# width_shift 和 height_shift 是图像在水平或垂直方向上平移的范围（相对于总宽 度或总高度的比例）\n",
    "# shear_range 是随机错切变换的角度\n",
    "# zoom_range 是图像随机缩放的范围\n",
    "# horizontal_flip 是随机将一半图像水平翻转\n",
    "# fill_mode是用于填充新创建像素的方法，这些新像素可能来自于旋转或宽度/高度平移"
   ]
  },
  {
   "cell_type": "code",
   "execution_count": 3,
   "metadata": {},
   "outputs": [
    {
     "name": "stdout",
     "output_type": "stream",
     "text": [
      "1\n"
     ]
    }
   ],
   "source": [
    "# 图像预处理 工具的模块\n",
    "import matplotlib.pyplot as plt\n",
    "from keras.preprocessing import image\n",
    "import os, shutil\n",
    "\n",
    "# 原始数据集解压目录的路径\n",
    "original_dataset_dir = r'D:\\project\\00_source\\datasets\\dogs_vs_cats\\train\\train'\n",
    "# 小数据集路径\n",
    "base_dir = r'D:\\project\\00_source\\datasets\\dogs_vs_cats\\small'\n",
    "\n",
    "# 创建训练、验证、测试目录\n",
    "train_dir         = os.path.join(base_dir, 'train')\n",
    "validation_dir    = os.path.join(base_dir, 'validation')\n",
    "test_dir          = os.path.join(base_dir, 'test')\n",
    "\n",
    "# 创建狗训练、验证、测试目录\n",
    "train_dog_dir      = os.path.join(train_dir, 'dogs')\n",
    "validation_dog_dir = os.path.join(validation_dir, 'dogs')\n",
    "test_dog_dir       = os.path.join(test_dir, 'dogs')\n",
    "\n",
    "# 创建猫训练、验证、测试目录\n",
    "train_cat_dir      = os.path.join(train_dir, 'cats')\n",
    "validation_cat_dir = os.path.join(validation_dir, 'cats')\n",
    "test_cat_dir       = os.path.join(test_dir, 'cats')\n",
    "\n",
    "# 猫图片路径\n",
    "fnames = [os.path.join(train_cat_dir, fname) for fname in os.listdir(train_cat_dir)]\n",
    "# 选择其中一张图\n",
    "img_path = fnames[3]\n",
    "# 读取并调整大小\n",
    "img = image.load_img(img_path,target_size=(150,150))\n",
    "# 将图像转换为（150，150，3）的numpy数组\n",
    "x = image.img_to_array(img)\n",
    "# 将其形状改为（1，150，150，3）\n",
    "x = x.reshape((1,)+x.shape)\n",
    "print(len(x))"
   ]
  },
  {
   "cell_type": "code",
   "execution_count": 4,
   "metadata": {},
   "outputs": [],
   "source": [
    "i = 0\n",
    "for batch in datagen.flow(x,batch_size=1):\n",
    "    plt.figure(i)\n",
    "    imgplot = plt.imshow(image.array_to_img(batch[0]))\n",
    "    i += 1\n",
    "    if i % 4 == 0:\n",
    "        break\n",
    "plt.show()"
   ]
  },
  {
   "cell_type": "code",
   "execution_count": null,
   "metadata": {},
   "outputs": [],
   "source": []
  }
 ],
 "metadata": {
  "kernelspec": {
   "display_name": "Python [conda env:tensorflow]",
   "language": "python",
   "name": "conda-env-tensorflow-py"
  },
  "language_info": {
   "codemirror_mode": {
    "name": "ipython",
    "version": 3
   },
   "file_extension": ".py",
   "mimetype": "text/x-python",
   "name": "python",
   "nbconvert_exporter": "python",
   "pygments_lexer": "ipython3",
   "version": "3.7.3"
  }
 },
 "nbformat": 4,
 "nbformat_minor": 2
}
