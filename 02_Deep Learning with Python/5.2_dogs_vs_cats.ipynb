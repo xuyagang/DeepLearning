{
 "cells": [
  {
   "cell_type": "markdown",
   "metadata": {},
   "source": [
    "将图像复制到训练、验证和测试的目录 "
   ]
  },
  {
   "cell_type": "code",
   "execution_count": 3,
   "metadata": {},
   "outputs": [],
   "source": [
    "import os, shutil\n",
    "\n",
    "# 原始数据集解压目录的路径\n",
    "original_dataset_dir = r'D:\\project\\00_source\\datasets\\dogs_vs_cats\\train\\train'\n",
    "# 小数据集路径\n",
    "base_dir = r'D:\\project\\00_source\\datasets\\dogs_vs_cats\\small'\n",
    "\n",
    "# 创建训练、验证、测试目录\n",
    "train_dir         = os.path.join(base_dir, 'train')\n",
    "validation_dir    = os.path.join(base_dir, 'validation')\n",
    "test_dir          = os.path.join(base_dir, 'test')\n",
    "\n",
    "# os.mkdir(train_dir)\n",
    "# os.mkdir(validation_dir)\n",
    "# os.mkdir(test_dir)\n",
    "\n",
    "# 创建狗训练、验证、测试目录\n",
    "train_dog_dir      = os.path.join(train_dir, 'dogs')\n",
    "validation_dog_dir = os.path.join(validation_dir, 'dogs')\n",
    "test_dog_dir       = os.path.join(test_dir, 'dogs')\n",
    "\n",
    "# os.mkdir(train_dog_dir)\n",
    "# os.mkdir(validation_dog_dir)\n",
    "# os.mkdir(test_dog_dir)\n",
    "\n",
    "# 创建猫训练、验证、测试目录\n",
    "train_cat_dir      = os.path.join(train_dir, 'cats')\n",
    "validation_cat_dir = os.path.join(validation_dir, 'cats')\n",
    "test_cat_dir       = os.path.join(test_dir, 'cats')\n",
    "\n",
    "# os.mkdir(train_cat_dir)\n",
    "# os.mkdir(validation_cat_dir)\n",
    "# os.mkdir(test_cat_dir)"
   ]
  },
  {
   "cell_type": "code",
   "execution_count": null,
   "metadata": {},
   "outputs": [],
   "source": [
    "# 将前1000张猫复制到train_cat_dir\n",
    "frames = ['cat.{}.jpg'.format(i) for i in range(1000)]\n",
    "for frame in frames:\n",
    "    src = os.path.join(original_dataset_dir, frame)\n",
    "    dst = os.path.join(train_cat_dir, frame)\n",
    "    shutil.copyfile(src, dst)\n",
    "    \n",
    "# 将接下来500 张猫的图像复 制到 validation_cats_dir\n",
    "frames = ['cat.{}.jpg'.format(i) for i in range(1000, 1500)]\n",
    "for frame in frames:\n",
    "    src = os.path.join(original_dataset_dir, frame)\n",
    "    dst = os.path.join(validation_cat_dir, frame)\n",
    "    shutil.copyfile(src, dst)\n",
    "    \n",
    "# 将接下来的500 张猫的图像 复制到 test_cats_dir\n",
    "frames = ['cat.{}.jpg'.format(i) for i in range(1000, 1500)]\n",
    "for frame in frames:\n",
    "    src = os.path.join(original_dataset_dir, frame)\n",
    "    dst = os.path.join(test_cat_dir, frame)\n",
    "    shutil.copyfile(src, dst)\n",
    "\n",
    "# 将前1000张狗复制到train_cat_dir\n",
    "frames = ['dog.{}.jpg'.format(i) for i in range(1000)]\n",
    "for frame in frames:\n",
    "    src = os.path.join(original_dataset_dir, frame)\n",
    "    dst = os.path.join(train_dog_dir, frame)\n",
    "    shutil.copyfile(src, dst)\n",
    "    \n",
    "# 将接下来500 张狗的图像复 制到 validation_cats_dir\n",
    "frames = ['dog.{}.jpg'.format(i) for i in range(1000, 1500)]\n",
    "for frame in frames:\n",
    "    src = os.path.join(original_dataset_dir, frame)\n",
    "    dst = os.path.join(validation_dog_dir, frame)\n",
    "    shutil.copyfile(src, dst)\n",
    "    \n",
    "# 将接下来的500 张狗的图像 复制到 test_cats_dir\n",
    "frames = ['dog.{}.jpg'.format(i) for i in range(1000, 1500)]\n",
    "for frame in frames:\n",
    "    src = os.path.join(original_dataset_dir, frame)\n",
    "    dst = os.path.join(test_dog_dir, frame)\n",
    "    shutil.copyfile(src, dst)"
   ]
  },
  {
   "cell_type": "code",
   "execution_count": 4,
   "metadata": {},
   "outputs": [
    {
     "name": "stdout",
     "output_type": "stream",
     "text": [
      "Total training dog images: 1000\n",
      "Total training cat images: 1000\n",
      "Total validation dog images: 500\n",
      "Total validation cat images: 500\n",
      "Total test dog images: 500\n",
      "Total test cat images: 500\n"
     ]
    }
   ],
   "source": [
    "# 检查每个分组的图像个数\n",
    "# 有2000 张训练图像、1000 张验证图像和1000 张测试图像\n",
    "train_dogs = len(os.listdir(train_dog_dir))\n",
    "print('Total training dog images:',train_dogs)\n",
    "train_cats = len(os.listdir(train_cat_dir))\n",
    "print('Total training cat images:',train_cats)\n",
    "\n",
    "validation_dogs = len(os.listdir(validation_dog_dir))\n",
    "print('Total validation dog images:',validation_dogs)\n",
    "validation_cats = len(os.listdir(validation_cat_dir))\n",
    "print('Total validation cat images:',validation_cats)\n",
    "\n",
    "test_dogs = len(os.listdir(test_dog_dir))\n",
    "print('Total test dog images:',test_dogs)\n",
    "test_cats = len(os.listdir(test_cat_dir))\n",
    "print('Total test cat images:',test_cats)"
   ]
  },
  {
   "cell_type": "markdown",
   "metadata": {},
   "source": [
    "每个分组中两个 类别的样本数相同，这是一个平衡的二分类问题，分类精度可作为衡量成功的指标\n",
    "\n",
    "要处理的是更大的图像和更复杂的问题，你需要相应地增大网络，即再增加一 个 Conv2D+MaxPooling2D 的组合。这既可以增大网络容量，也可以进一步减小特征图的尺寸， 使其在连接 Flatten 层时尺寸不会太大\n",
    "\n",
    "输入的尺寸为150×150（有些随意的选 择），所以最后在 Flatten 层之前的特征图大小为 7×7\n",
    "\n",
    "网络中特征图的深度在逐渐增大（从32 增大到128），而特征图的尺寸在逐渐减小（从 150×150 减小到 7×7）。这几乎是所有卷积神经网络的模式\n",
    "\n",
    "二分类问题，所以网络最后一层是使用 sigmoid 激活的单一单元"
   ]
  },
  {
   "cell_type": "code",
   "execution_count": 5,
   "metadata": {},
   "outputs": [
    {
     "name": "stderr",
     "output_type": "stream",
     "text": [
      "Using TensorFlow backend.\n"
     ]
    },
    {
     "name": "stdout",
     "output_type": "stream",
     "text": [
      "WARNING:tensorflow:From C:\\Users\\Dell\\Anaconda3\\envs\\tensorflow\\lib\\site-packages\\tensorflow\\python\\framework\\op_def_library.py:263: colocate_with (from tensorflow.python.framework.ops) is deprecated and will be removed in a future version.\n",
      "Instructions for updating:\n",
      "Colocations handled automatically by placer.\n",
      "_________________________________________________________________\n",
      "Layer (type)                 Output Shape              Param #   \n",
      "=================================================================\n",
      "conv2d_1 (Conv2D)            (None, 148, 148, 32)      896       \n",
      "_________________________________________________________________\n",
      "max_pooling2d_1 (MaxPooling2 (None, 74, 74, 32)        0         \n",
      "_________________________________________________________________\n",
      "conv2d_2 (Conv2D)            (None, 72, 72, 64)        18496     \n",
      "_________________________________________________________________\n",
      "max_pooling2d_2 (MaxPooling2 (None, 36, 36, 64)        0         \n",
      "_________________________________________________________________\n",
      "conv2d_3 (Conv2D)            (None, 34, 34, 128)       73856     \n",
      "_________________________________________________________________\n",
      "max_pooling2d_3 (MaxPooling2 (None, 17, 17, 128)       0         \n",
      "_________________________________________________________________\n",
      "conv2d_4 (Conv2D)            (None, 15, 15, 128)       147584    \n",
      "_________________________________________________________________\n",
      "max_pooling2d_4 (MaxPooling2 (None, 7, 7, 128)         0         \n",
      "_________________________________________________________________\n",
      "flatten_1 (Flatten)          (None, 6272)              0         \n",
      "_________________________________________________________________\n",
      "dense_1 (Dense)              (None, 512)               3211776   \n",
      "_________________________________________________________________\n",
      "dense_2 (Dense)              (None, 1)                 513       \n",
      "=================================================================\n",
      "Total params: 3,453,121\n",
      "Trainable params: 3,453,121\n",
      "Non-trainable params: 0\n",
      "_________________________________________________________________\n"
     ]
    }
   ],
   "source": [
    "# 构建网络\n",
    "from keras import layers\n",
    "from keras import models\n",
    "\n",
    "model = models.Sequential()\n",
    "model.add(layers.Conv2D(32, (3, 3), activation='relu', input_shape=(150, 150, 3)))\n",
    "model.add(layers.MaxPooling2D((2, 2)))\n",
    "model.add(layers.Conv2D(64, (3, 3), activation='relu'))\n",
    "model.add(layers.MaxPool2D((2, 2)))\n",
    "model.add(layers.Conv2D(128, (3, 3), activation='relu'))\n",
    "model.add(layers.MaxPool2D((2, 2)))\n",
    "model.add(layers.Conv2D(128, (3, 3), activation='relu'))\n",
    "model.add(layers.MaxPool2D((2, 2)))\n",
    "model.add(layers.Flatten())\n",
    "model.add(layers.Dense(512,activation='relu'))\n",
    "model.add(layers.Dense(1,activation='sigmoid'))\n",
    "model.summary()"
   ]
  },
  {
   "cell_type": "code",
   "execution_count": 7,
   "metadata": {},
   "outputs": [],
   "source": [
    "# 配置模型用于训练\n",
    "\n",
    "# 我们将使用 RMSprop 优化器。因为网络最后一层是单一 sigmoid 单元，所以我们将使用二元交叉熵作为损失函数\n",
    "from keras import optimizers\n",
    "\n",
    "model.compile(optimizer= optimizers.RMSprop(lr=1e-4), \n",
    "             loss = 'binary_crossentropy',\n",
    "             metrics=['acc'])"
   ]
  },
  {
   "cell_type": "raw",
   "metadata": {},
   "source": [
    "# 将数据输入神经网络之前，应该将数据格式化为经过预处理的浮点数张量\n",
    "    # (1) 读取图像文件。 \n",
    "    # (2) 将 JPEG 文件解码为 RGB 像素网格。 \n",
    "    # (3) 将这些像素网格转换为浮点数张量。 \n",
    "    # (4) 将像素值（0~255 范围内）缩放到 [0, 1] 区间（正如你所知，神经网络喜欢处理较小的输 入值）\n",
    "\n",
    "Keras 拥有自动完成这些步骤的工具。Keras 有一个图像处理辅助工具的模块，位于keras.preprocessing.image。特别地，它包含 ImageDataGenerator 类，可以快速创建Python 生成器，能够将硬盘上的图像文件自动转换 为预处理好的张量批量"
   ]
  },
  {
   "cell_type": "code",
   "execution_count": 8,
   "metadata": {},
   "outputs": [
    {
     "name": "stdout",
     "output_type": "stream",
     "text": [
      "Found 2000 images belonging to 2 classes.\n",
      "Found 1000 images belonging to 2 classes.\n",
      "data batch shape: (20, 150, 150, 3)\n",
      "labels batch shape: (20,)\n"
     ]
    }
   ],
   "source": [
    "from keras.preprocessing.image import ImageDataGenerator\n",
    "\n",
    "\n",
    "train_datagen = ImageDataGenerator(rescale = 1./255)\n",
    "test_datagen = ImageDataGenerator(rescale = 1./255)\n",
    "\n",
    "train_generator = train_datagen.flow_from_directory(\n",
    "    # 目录\n",
    "    train_dir,\n",
    "    # 将所有图像的大小调整为 150×150\n",
    "    target_size=(150, 150),\n",
    "    batch_size=20,\n",
    "    # 因为使用了binary_crossentropy 损失，所以需要用二进制标签\n",
    "    class_mode='binary'\n",
    ")\n",
    "validation_generator = test_datagen.flow_from_directory(\n",
    "    validation_dir,\n",
    "    # 将所有图像的大小调整为 150×150\n",
    "    target_size=(150, 150),\n",
    "    batch_size=20,\n",
    "    # 因为使用了binary_crossentropy 损失，所以需要用二进制标签\n",
    "    class_mode='binary'\n",
    ")\n",
    "\n",
    "# 查看生成器生成对象,由data batch 和 label batch 构成\n",
    "for data_batch,labels_batch in train_generator:\n",
    "    print('data batch shape:',data_batch.shape)\n",
    "    print('labels batch shape:', labels_batch.shape)\n",
    "    break"
   ]
  },
  {
   "cell_type": "code",
   "execution_count": 9,
   "metadata": {},
   "outputs": [
    {
     "name": "stdout",
     "output_type": "stream",
     "text": [
      "WARNING:tensorflow:From C:\\Users\\Dell\\Anaconda3\\envs\\tensorflow\\lib\\site-packages\\tensorflow\\python\\ops\\math_ops.py:3066: to_int32 (from tensorflow.python.ops.math_ops) is deprecated and will be removed in a future version.\n",
      "Instructions for updating:\n",
      "Use tf.cast instead.\n",
      "Epoch 1/30\n",
      "100/100 [==============================] - 82s 823ms/step - loss: 0.6942 - acc: 0.5240 - val_loss: 0.6819 - val_acc: 0.5150\n",
      "Epoch 2/30\n",
      "100/100 [==============================] - 80s 799ms/step - loss: 0.6619 - acc: 0.6090 - val_loss: 0.6446 - val_acc: 0.6180\n",
      "Epoch 3/30\n",
      "100/100 [==============================] - 78s 780ms/step - loss: 0.6193 - acc: 0.6475 - val_loss: 0.6500 - val_acc: 0.6180\n",
      "Epoch 4/30\n",
      "100/100 [==============================] - 83s 826ms/step - loss: 0.5716 - acc: 0.6900 - val_loss: 0.5843 - val_acc: 0.6870\n",
      "Epoch 5/30\n",
      "100/100 [==============================] - 84s 839ms/step - loss: 0.5305 - acc: 0.7395 - val_loss: 0.5864 - val_acc: 0.6900\n",
      "Epoch 6/30\n",
      "100/100 [==============================] - 81s 811ms/step - loss: 0.4978 - acc: 0.7590 - val_loss: 0.5711 - val_acc: 0.7030\n",
      "Epoch 7/30\n",
      "100/100 [==============================] - 83s 829ms/step - loss: 0.4687 - acc: 0.7740 - val_loss: 0.5342 - val_acc: 0.7190\n",
      "Epoch 8/30\n",
      "100/100 [==============================] - 84s 845ms/step - loss: 0.4451 - acc: 0.7875 - val_loss: 0.5482 - val_acc: 0.7110\n",
      "Epoch 9/30\n",
      "100/100 [==============================] - 83s 833ms/step - loss: 0.4185 - acc: 0.8095 - val_loss: 0.5333 - val_acc: 0.7280\n",
      "Epoch 10/30\n",
      "100/100 [==============================] - 84s 845ms/step - loss: 0.3926 - acc: 0.8125 - val_loss: 0.5736 - val_acc: 0.7070\n",
      "Epoch 11/30\n",
      "100/100 [==============================] - 83s 831ms/step - loss: 0.3632 - acc: 0.8385 - val_loss: 0.5380 - val_acc: 0.7280\n",
      "Epoch 12/30\n",
      "100/100 [==============================] - 81s 805ms/step - loss: 0.3360 - acc: 0.8625 - val_loss: 0.5614 - val_acc: 0.7350\n",
      "Epoch 13/30\n",
      "100/100 [==============================] - 81s 811ms/step - loss: 0.3094 - acc: 0.8710 - val_loss: 0.6376 - val_acc: 0.7340\n",
      "Epoch 14/30\n",
      "100/100 [==============================] - 81s 811ms/step - loss: 0.2913 - acc: 0.8800 - val_loss: 0.5398 - val_acc: 0.7380\n",
      "Epoch 15/30\n",
      "100/100 [==============================] - 86s 857ms/step - loss: 0.2700 - acc: 0.8935 - val_loss: 0.6447 - val_acc: 0.7120\n",
      "Epoch 16/30\n",
      "100/100 [==============================] - 79s 786ms/step - loss: 0.2483 - acc: 0.8960 - val_loss: 0.6170 - val_acc: 0.7290\n",
      "Epoch 17/30\n",
      "100/100 [==============================] - 77s 774ms/step - loss: 0.2265 - acc: 0.9085 - val_loss: 0.7417 - val_acc: 0.6910\n",
      "Epoch 18/30\n",
      "100/100 [==============================] - 78s 782ms/step - loss: 0.1967 - acc: 0.9260 - val_loss: 0.6702 - val_acc: 0.7380\n",
      "Epoch 19/30\n",
      "100/100 [==============================] - 80s 805ms/step - loss: 0.1839 - acc: 0.9330 - val_loss: 0.6296 - val_acc: 0.7360\n",
      "Epoch 20/30\n",
      "100/100 [==============================] - 83s 835ms/step - loss: 0.1609 - acc: 0.9445 - val_loss: 0.6519 - val_acc: 0.7390\n",
      "Epoch 21/30\n",
      "100/100 [==============================] - 81s 805ms/step - loss: 0.1450 - acc: 0.9495 - val_loss: 0.6902 - val_acc: 0.7420\n",
      "Epoch 22/30\n",
      "100/100 [==============================] - 79s 790ms/step - loss: 0.1250 - acc: 0.9605 - val_loss: 0.7040 - val_acc: 0.7420\n",
      "Epoch 23/30\n",
      "100/100 [==============================] - 82s 819ms/step - loss: 0.1089 - acc: 0.9660 - val_loss: 0.7542 - val_acc: 0.7290\n",
      "Epoch 24/30\n",
      "100/100 [==============================] - 81s 809ms/step - loss: 0.0947 - acc: 0.9715 - val_loss: 0.7600 - val_acc: 0.7390\n",
      "Epoch 25/30\n",
      "100/100 [==============================] - 78s 781ms/step - loss: 0.0810 - acc: 0.9750 - val_loss: 0.8349 - val_acc: 0.7220\n",
      "Epoch 26/30\n",
      "100/100 [==============================] - 78s 783ms/step - loss: 0.0683 - acc: 0.9805 - val_loss: 0.8225 - val_acc: 0.7370\n",
      "Epoch 27/30\n",
      "100/100 [==============================] - 87s 875ms/step - loss: 0.0601 - acc: 0.9835 - val_loss: 1.2535 - val_acc: 0.6970\n",
      "Epoch 28/30\n",
      "100/100 [==============================] - 78s 783ms/step - loss: 0.0526 - acc: 0.9840 - val_loss: 0.9336 - val_acc: 0.7270\n",
      "Epoch 29/30\n",
      "100/100 [==============================] - 79s 794ms/step - loss: 0.0430 - acc: 0.9885 - val_loss: 0.9424 - val_acc: 0.7420\n",
      "Epoch 30/30\n",
      "100/100 [==============================] - 78s 785ms/step - loss: 0.0348 - acc: 0.9945 - val_loss: 0.9729 - val_acc: 0.7360\n"
     ]
    }
   ],
   "source": [
    "# 使用 fit_generator 方法来拟合，它 在数据生成器上的效果和 fit 相同\n",
    "# 第一个参数应该是一个 Python 生成器，可以不停地生 成输入和目标组成的批量\n",
    "# 数据是不断生成的，所以 Keras 模型 要知道每一轮需要从生成器中抽取多少个样本\n",
    "\n",
    "#  steps_per_epoch 参数的作用：从生成 器中抽取 steps_per_epoch 个批量后\n",
    "#     （即运行了 steps_per_epoch 次梯度下降），拟合过程 将进入下一个轮次\n",
    "\n",
    "# 每个批量包含20 个样本，所以读取完所有2000 个样本需要100 个批量\n",
    "\n",
    "# 可以传入一个 validation_data 参数，其作用和在 fit 方 法中类似。值得注意的是，这个参数可以是一个数据生成器，\n",
    "# 但也可以是 Numpy 数组组成的元 组\n",
    "\n",
    "# 如果向 validation_data 传入一个生成器，那么这个生成器应该能够不停地生成验证数 据批量，\n",
    "# 因此你还需要指定 validation_steps 参数\n",
    "\n",
    "history = model.fit_generator(train_generator, \n",
    "                              steps_per_epoch=100, \n",
    "                              epochs=30, \n",
    "                              validation_data=validation_generator, \n",
    "                              validation_steps=50)"
   ]
  },
  {
   "cell_type": "code",
   "execution_count": 10,
   "metadata": {},
   "outputs": [],
   "source": [
    "# 保存模型\n",
    "model.save('dogs_and_cats_small_1.h5')"
   ]
  },
  {
   "cell_type": "code",
   "execution_count": 13,
   "metadata": {},
   "outputs": [
    {
     "data": {
      "image/png": "[encoded data removed]",
      "text/plain": [
       "<Figure size 432x288 with 1 Axes>"
      ]
     },
     "metadata": {
      "needs_background": "light"
     },
     "output_type": "display_data"
    },
    {
     "data": {
      "image/png": "[encoded data removed]",
      "text/plain": [
       "<Figure size 432x288 with 1 Axes>"
      ]
     },
     "metadata": {
      "needs_background": "light"
     },
     "output_type": "display_data"
    }
   ],
   "source": [
    "# 绘制损失曲线和精度曲线\n",
    "import matplotlib.pyplot as plt\n",
    "\n",
    "acc = history.history['acc']\n",
    "val_acc = history.history['val_acc'] \n",
    "loss = history.history['loss'] \n",
    "val_loss = history.history['val_loss'] \n",
    "\n",
    "epochs = range(1, len(acc)+1)\n",
    "plt.plot(epochs,acc,'bo',label='Training acc')\n",
    "plt.plot(epochs, val_acc, 'b',label='Validation acc')\n",
    "plt.xlabel('Epoch')\n",
    "plt.ylabel('Acc')\n",
    "plt.legend()\n",
    "\n",
    "plt.figure()\n",
    "plt.plot(epochs,loss,'bo',label='Training Loss')\n",
    "plt.plot(epochs,val_loss,'b',label='Validation Loss')\n",
    "plt.xlabel('Epoch')\n",
    "plt.ylabel('Loss')\n",
    "plt.legend()\n",
    "\n",
    "plt.show()"
   ]
  },
  {
   "cell_type": "markdown",
   "metadata": {},
   "source": [
    "### 分析\n",
    "- 训练精度随时间线性增加，接近100%，而验证精度停留在70%~72%\n",
    "- 验证损失仅在5 轮后就达到最小值，然后保持不变，而训练损失则 一直线性下降，直到接近于 0\n",
    "\n",
    "前面已经介绍过几种 降低过拟合的技巧，比如dropout 和权重衰减（L2 正则化）。现在我们将使用一种针对于计算 机视觉领域的新方法，在用深度学习模型处理图像时几乎都会用到这种方法，它就是数据增强 （data augmentation）"
   ]
  },
  {
   "cell_type": "code",
   "execution_count": null,
   "metadata": {},
   "outputs": [],
   "source": []
  },
  {
   "cell_type": "code",
   "execution_count": null,
   "metadata": {},
   "outputs": [],
   "source": []
  },
  {
   "cell_type": "code",
   "execution_count": null,
   "metadata": {},
   "outputs": [],
   "source": []
  }
 ],
 "metadata": {
  "kernelspec": {
   "display_name": "Python [conda env:tensorflow]",
   "language": "python",
   "name": "conda-env-tensorflow-py"
  },
  "language_info": {
   "codemirror_mode": {
    "name": "ipython",
    "version": 3
   },
   "file_extension": ".py",
   "mimetype": "text/x-python",
   "name": "python",
   "nbconvert_exporter": "python",
   "pygments_lexer": "ipython3",
   "version": "3.7.3"
  }
 },
 "nbformat": 4,
 "nbformat_minor": 2
}
